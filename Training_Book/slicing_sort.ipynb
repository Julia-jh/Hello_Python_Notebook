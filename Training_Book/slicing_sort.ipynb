{
 "cells": [
  {
   "cell_type": "code",
   "execution_count": 1,
   "metadata": {},
   "outputs": [],
   "source": [
    "import numpy as np\n",
    "import pandas as pd\n",
    "import numpy.random as random"
   ]
  },
  {
   "cell_type": "code",
   "execution_count": 2,
   "metadata": {},
   "outputs": [],
   "source": [
    "def list_indexing():\n",
    "    \n",
    "    # 리스트 생성하기\n",
    "    def listing():\n",
    "        list_kind = int(input('리스트 종류를 선택해 주십시오 \\n1. 랜덤 \\n2. 순서대로 \\n3. 그만두기\\n'))\n",
    "        list_num = int(input('리스트의 갯수를 정해주십시오: '))\n",
    "\n",
    "        # 다른 함수에서 사용해야 한다\n",
    "        global data, data2\n",
    "        data = list(np.arange(1, list_num + 1))\n",
    "        # 재사용할 경우 사용할 임시 저장소\n",
    "        data2 = data\n",
    "\n",
    "        if list_kind == 1:\n",
    "            random.shuffle(data)\n",
    "        elif list_kind == 3:\n",
    "            quit()\n",
    "            print('종료합니다.')\n",
    "        print('생성된 리스트입니다', data)\n",
    "        \n",
    "\n",
    "    # 인덱싱이랑 정렬 바꾸는 함수\n",
    "    def indexing_sorting():\n",
    "        indexings = list(map(int, input('인덱싱 a:b:c에 들어갈 숫자를 ,로 구분하며 차례대로 입력하시오\\n이때 비워두고 싶은 경우 0을 사용하시오\\n').split(',')))\n",
    "\n",
    "        for i in range(3):\n",
    "            if indexings[i] == 0:\n",
    "                indexings[i] = None\n",
    "\n",
    "        data[indexings[0]:indexings[1]:indexings[2]].sort()\n",
    "        print(\"data[{}:{}:{}].sort() = {}\".format(indexings[0], indexings[1], indexings[2], data))\n",
    "\n",
    "        # 데이터를 비교하기\n",
    "        def compare():\n",
    "            if change_num > 0:\n",
    "                data = data2\n",
    "                indexing_sorting()\n",
    "\n",
    "    # 인덱싱 바꾸고 싶은 횟수\n",
    "    change_num = int(input('인덱싱을 몇 번 바꾸고 싶나요?\\n'))\n",
    "\n",
    "    while(change_num != -1):\n",
    "        if change_num == 0:\n",
    "            listing()\n",
    "            indexing_sorting()\n",
    "        elif change_num > 0:\n",
    "            listing()\n",
    "            for i in range(change_num):\n",
    "                indexing_sorting()\n",
    "                print('\\n')\n",
    "# 특정 상황일 때 특정 수만큼 반복하는것 짜기!!!    "
   ]
  },
  {
   "cell_type": "code",
   "execution_count": 3,
   "metadata": {
    "scrolled": true
   },
   "outputs": [
    {
     "name": "stdout",
     "output_type": "stream",
     "text": [
      "인덱싱을 몇 번 바꾸고 싶나요?\n",
      "2\n",
      "리스트 종류를 선택해 주십시오 \n",
      "1. 랜덤 \n",
      "2. 순서대로 \n",
      "3. 그만두기\n",
      "1\n",
      "리스트의 갯수를 정해주십시오: 10\n",
      "생성된 리스트입니다 [3, 7, 1, 6, 5, 4, 10, 2, 8, 9]\n",
      "인덱싱 a:b:c에 들어갈 숫자를 ,로 구분하며 차례대로 입력하시오\n",
      "이때 비워두고 싶은 경우 0을 사용하시오\n",
      "0, 0, 1\n",
      "data[None:None:1].sort() = [3, 7, 1, 6, 5, 4, 10, 2, 8, 9]\n",
      "\n",
      "\n",
      "인덱싱 a:b:c에 들어갈 숫자를 ,로 구분하며 차례대로 입력하시오\n",
      "이때 비워두고 싶은 경우 0을 사용하시오\n",
      "0,0,-1\n",
      "data[None:None:-1].sort() = [3, 7, 1, 6, 5, 4, 10, 2, 8, 9]\n",
      "\n",
      "\n",
      "리스트 종류를 선택해 주십시오 \n",
      "1. 랜덤 \n",
      "2. 순서대로 \n",
      "3. 그만두기\n",
      "break\n"
     ]
    },
    {
     "ename": "ValueError",
     "evalue": "invalid literal for int() with base 10: 'break'",
     "output_type": "error",
     "traceback": [
      "\u001b[1;31m---------------------------------------------------------------------------\u001b[0m",
      "\u001b[1;31mValueError\u001b[0m                                Traceback (most recent call last)",
      "\u001b[1;32m<ipython-input-3-d89c1d53558e>\u001b[0m in \u001b[0;36m<module>\u001b[1;34m\u001b[0m\n\u001b[1;32m----> 1\u001b[1;33m \u001b[0mlist_indexing\u001b[0m\u001b[1;33m(\u001b[0m\u001b[1;33m)\u001b[0m\u001b[1;33m\u001b[0m\u001b[1;33m\u001b[0m\u001b[0m\n\u001b[0m",
      "\u001b[1;32m<ipython-input-2-af2af1acae8f>\u001b[0m in \u001b[0;36mlist_indexing\u001b[1;34m()\u001b[0m\n\u001b[0;32m     45\u001b[0m             \u001b[0mindexing_sorting\u001b[0m\u001b[1;33m(\u001b[0m\u001b[1;33m)\u001b[0m\u001b[1;33m\u001b[0m\u001b[1;33m\u001b[0m\u001b[0m\n\u001b[0;32m     46\u001b[0m         \u001b[1;32melif\u001b[0m \u001b[0mchange_num\u001b[0m \u001b[1;33m>\u001b[0m \u001b[1;36m0\u001b[0m\u001b[1;33m:\u001b[0m\u001b[1;33m\u001b[0m\u001b[1;33m\u001b[0m\u001b[0m\n\u001b[1;32m---> 47\u001b[1;33m             \u001b[0mlisting\u001b[0m\u001b[1;33m(\u001b[0m\u001b[1;33m)\u001b[0m\u001b[1;33m\u001b[0m\u001b[1;33m\u001b[0m\u001b[0m\n\u001b[0m\u001b[0;32m     48\u001b[0m             \u001b[1;32mfor\u001b[0m \u001b[0mi\u001b[0m \u001b[1;32min\u001b[0m \u001b[0mrange\u001b[0m\u001b[1;33m(\u001b[0m\u001b[0mchange_num\u001b[0m\u001b[1;33m)\u001b[0m\u001b[1;33m:\u001b[0m\u001b[1;33m\u001b[0m\u001b[1;33m\u001b[0m\u001b[0m\n\u001b[0;32m     49\u001b[0m                 \u001b[0mindexing_sorting\u001b[0m\u001b[1;33m(\u001b[0m\u001b[1;33m)\u001b[0m\u001b[1;33m\u001b[0m\u001b[1;33m\u001b[0m\u001b[0m\n",
      "\u001b[1;32m<ipython-input-2-af2af1acae8f>\u001b[0m in \u001b[0;36mlisting\u001b[1;34m()\u001b[0m\n\u001b[0;32m      3\u001b[0m     \u001b[1;31m# 리스트 생성하기\u001b[0m\u001b[1;33m\u001b[0m\u001b[1;33m\u001b[0m\u001b[1;33m\u001b[0m\u001b[0m\n\u001b[0;32m      4\u001b[0m     \u001b[1;32mdef\u001b[0m \u001b[0mlisting\u001b[0m\u001b[1;33m(\u001b[0m\u001b[1;33m)\u001b[0m\u001b[1;33m:\u001b[0m\u001b[1;33m\u001b[0m\u001b[1;33m\u001b[0m\u001b[0m\n\u001b[1;32m----> 5\u001b[1;33m         \u001b[0mlist_kind\u001b[0m \u001b[1;33m=\u001b[0m \u001b[0mint\u001b[0m\u001b[1;33m(\u001b[0m\u001b[0minput\u001b[0m\u001b[1;33m(\u001b[0m\u001b[1;34m'리스트 종류를 선택해 주십시오 \\n1. 랜덤 \\n2. 순서대로 \\n3. 그만두기\\n'\u001b[0m\u001b[1;33m)\u001b[0m\u001b[1;33m)\u001b[0m\u001b[1;33m\u001b[0m\u001b[1;33m\u001b[0m\u001b[0m\n\u001b[0m\u001b[0;32m      6\u001b[0m         \u001b[0mlist_num\u001b[0m \u001b[1;33m=\u001b[0m \u001b[0mint\u001b[0m\u001b[1;33m(\u001b[0m\u001b[0minput\u001b[0m\u001b[1;33m(\u001b[0m\u001b[1;34m'리스트의 갯수를 정해주십시오: '\u001b[0m\u001b[1;33m)\u001b[0m\u001b[1;33m)\u001b[0m\u001b[1;33m\u001b[0m\u001b[1;33m\u001b[0m\u001b[0m\n\u001b[0;32m      7\u001b[0m \u001b[1;33m\u001b[0m\u001b[0m\n",
      "\u001b[1;31mValueError\u001b[0m: invalid literal for int() with base 10: 'break'"
     ]
    }
   ],
   "source": [
    "list_indexing()"
   ]
  },
  {
   "cell_type": "code",
   "execution_count": 12,
   "metadata": {},
   "outputs": [
    {
     "data": {
      "text/plain": [
       "numpy.ndarray"
      ]
     },
     "execution_count": 12,
     "metadata": {},
     "output_type": "execute_result"
    }
   ],
   "source": [
    "type(data)"
   ]
  },
  {
   "cell_type": "code",
   "execution_count": 4,
   "metadata": {},
   "outputs": [
    {
     "data": {
      "text/plain": [
       "[5, 1, 4, 3, 10, 9, 6, 2, 7, 8]"
      ]
     },
     "execution_count": 4,
     "metadata": {},
     "output_type": "execute_result"
    }
   ],
   "source": [
    "data = [ 5,  1,  4,  3, 10,  9,  6,  2,  7,  8]\n",
    "data"
   ]
  },
  {
   "cell_type": "code",
   "execution_count": 7,
   "metadata": {},
   "outputs": [
    {
     "data": {
      "text/plain": [
       "list"
      ]
     },
     "execution_count": 7,
     "metadata": {},
     "output_type": "execute_result"
    }
   ],
   "source": [
    "a = data[::3]\n",
    "type(a)"
   ]
  },
  {
   "cell_type": "code",
   "execution_count": 13,
   "metadata": {
    "scrolled": true
   },
   "outputs": [
    {
     "data": {
      "text/plain": [
       "array([8, 6, 3, 5])"
      ]
     },
     "execution_count": 13,
     "metadata": {},
     "output_type": "execute_result"
    }
   ],
   "source": [
    "data[::-3]"
   ]
  },
  {
   "cell_type": "code",
   "execution_count": 18,
   "metadata": {},
   "outputs": [
    {
     "data": {
      "text/plain": [
       "[5, 1, 4, 3, 10, 9, 6, 2, 7, 8]"
      ]
     },
     "execution_count": 18,
     "metadata": {},
     "output_type": "execute_result"
    }
   ],
   "source": [
    "data[::3].sort()\n",
    "data"
   ]
  },
  {
   "cell_type": "code",
   "execution_count": 25,
   "metadata": {
    "scrolled": true
   },
   "outputs": [
    {
     "data": {
      "text/plain": [
       "[5, 1, 4, 3, 10, 9, 6, 2, 7, 8]"
      ]
     },
     "execution_count": 25,
     "metadata": {},
     "output_type": "execute_result"
    }
   ],
   "source": [
    "data[::-35].sort()\n",
    "data"
   ]
  }
 ],
 "metadata": {
  "jupytext": {
   "encoding": "# -*- coding: utf-8 -*-"
  },
  "kernelspec": {
   "display_name": "Python 3",
   "language": "python",
   "name": "python3"
  },
  "language_info": {
   "codemirror_mode": {
    "name": "ipython",
    "version": 3
   },
   "file_extension": ".py",
   "mimetype": "text/x-python",
   "name": "python",
   "nbconvert_exporter": "python",
   "pygments_lexer": "ipython3",
   "version": "3.7.3"
  }
 },
 "nbformat": 4,
 "nbformat_minor": 2
}
