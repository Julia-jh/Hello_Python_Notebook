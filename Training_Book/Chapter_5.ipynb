{
 "cells": [
  {
   "cell_type": "markdown",
   "metadata": {},
   "source": [
    "# 5. 1. 개요와 사전준비"
   ]
  },
  {
   "cell_type": "markdown",
   "metadata": {},
   "source": [
    "## 5. 1. 2. 라이브러리 임포트"
   ]
  },
  {
   "cell_type": "code",
   "execution_count": 1,
   "metadata": {},
   "outputs": [
    {
     "data": {
      "text/plain": [
       "'%.3f'"
      ]
     },
     "execution_count": 1,
     "metadata": {},
     "output_type": "execute_result"
    }
   ],
   "source": [
    "# 필요한 라이브러리 임포트\n",
    "import numpy as np\n",
    "import numpy.random as random\n",
    "import scipy as sp\n",
    "\n",
    "# 시각화 라이브러리\n",
    "import matplotlib.pyplot as plt\n",
    "import matplotlib as mpl\n",
    "%matplotlib inline\n",
    "\n",
    "# 소수점 세 번째 자리까지 표시\n",
    "%precision 3"
   ]
  },
  {
   "cell_type": "markdown",
   "metadata": {},
   "source": [
    "# 5. 2. 넘파이를 이용한 계산 방법"
   ]
  },
  {
   "cell_type": "markdown",
   "metadata": {},
   "source": [
    "## 5. 2. 1. 인덱스 참조"
   ]
  },
  {
   "cell_type": "code",
   "execution_count": 2,
   "metadata": {},
   "outputs": [
    {
     "name": "stdout",
     "output_type": "stream",
     "text": [
      "sample_array:  [0 1 2 3 4 5 6 7 8 9]\n",
      "sample_array_slice:  [0 1 2 3 4]\n",
      "변경한 sample_array_slice:  [10 10 10  3  4]\n",
      "변경 후 sample_array:  [10 10 10  3  4  5  6  7  8  9]\n",
      "\n",
      "데이터 복사\n",
      "sample_array_copy:  [10 10 10  3  4  5  6  7  8  9]\n",
      "변경한 sample_array_copy:  [20 20 20  3  4  5  6  7  8  9]\n",
      "sample_array:  [10 10 10  3  4  5  6  7  8  9]\n"
     ]
    }
   ],
   "source": [
    "sample_array = np.arange(10)\n",
    "\n",
    "# 원본 데이터\n",
    "print('sample_array: ', sample_array)\n",
    "\n",
    "# 앞에서 숫자 5개를 추출해 sample_array_slice에 저장(슴라이싱)\n",
    "sample_array_slice = sample_array[0:5]\n",
    "print('sample_array_slice: ', sample_array_slice)\n",
    "\n",
    "# sample_array_slice 처음 3개 원소를 10으로 변경\n",
    "sample_array_slice[0:3] = 10\n",
    "print('변경한 sample_array_slice: ', sample_array_slice)\n",
    "\n",
    "# 슬라이싱은 원본 리스트의 원소 값도 변경한다는 점에 주의\n",
    "print('변경 후 sample_array: ', sample_array)\n",
    "\n",
    "# 데이터 복사\n",
    "print('\\n데이터 복사')\n",
    "\n",
    "# copy하고 다른 object를 생성\n",
    "sample_array_copy = np.copy(sample_array)\n",
    "print('sample_array_copy: ', sample_array_copy)\n",
    "\n",
    "sample_array_copy[0:3] = 20\n",
    "print('변경한 sample_array_copy: ', sample_array_copy)\n",
    "\n",
    "# 원본 리스트의 원소는 변경되지 않음\n",
    "print('sample_array: ', sample_array)"
   ]
  },
  {
   "cell_type": "code",
   "execution_count": 3,
   "metadata": {},
   "outputs": [
    {
     "name": "stdout",
     "output_type": "stream",
     "text": [
      "\n",
      "\n",
      "['a' 'b' 'c' 'd' 'a']\n",
      "[[ 1.764  0.4    0.979  2.241  1.868]\n",
      " [-0.977  0.95  -0.151 -0.103  0.411]\n",
      " [ 0.144  1.454  0.761  0.122  0.444]\n",
      " [ 0.334  1.494 -0.205  0.313 -0.854]\n",
      " [-2.553  0.654  0.864 -0.742  2.27 ]]\n",
      "\n",
      "\n",
      "불값 출력 [ True False False False  True]\n",
      "\n",
      "\n",
      "불 인덱스 참조\n",
      " [[ 1.764  0.4    0.979  2.241  1.868]\n",
      " [-2.553  0.654  0.864 -0.742  2.27 ]]\n",
      "\n",
      "\n"
     ]
    }
   ],
   "source": [
    "# 불 인덱스 참조\n",
    "\n",
    "# 데이터 생성\n",
    "sample_names = np.array(['a', 'b', 'c', 'd', 'a'])\n",
    "print('\\n')\n",
    "random.seed(0)\n",
    "data = random.randn(5, 5)\n",
    "\n",
    "print(sample_names)\n",
    "print(data)\n",
    "\n",
    "print('\\n')\n",
    "\n",
    "print('불값 출력', sample_names == 'a')\n",
    "print('\\n')\n",
    "print('불 인덱스 참조\\n', data[sample_names == 'a'])\n",
    "print('\\n')"
   ]
  },
  {
   "cell_type": "code",
   "execution_count": 4,
   "metadata": {},
   "outputs": [
    {
     "name": "stdout",
     "output_type": "stream",
     "text": [
      "[  1   2 300 400   5]\n"
     ]
    }
   ],
   "source": [
    "# 조건 제어\n",
    "# 조건을 제어하기 위해 불 배열 생성\n",
    "cond_data = np.array([True, True, False, False, True])\n",
    "\n",
    "# 배열 x_array 생성\n",
    "x_array = np.array([1, 2, 3, 4, 5])\n",
    "\n",
    "# 배열 y_array 생성\n",
    "y_array = np.array([100, 200, 300, 400, 500])\n",
    "\n",
    "# 조건 제어 실행\n",
    "print(np.where(cond_data, x_array, y_array))"
   ]
  },
  {
   "cell_type": "code",
   "execution_count": 5,
   "metadata": {},
   "outputs": [
    {
     "name": "stdout",
     "output_type": "stream",
     "text": [
      "\n",
      "\n",
      "['a' 'b' 'c' 'd' 'a']\n",
      "[[ 1.764  0.4    0.979  2.241  1.868]\n",
      " [-0.977  0.95  -0.151 -0.103  0.411]\n",
      " [ 0.144  1.454  0.761  0.122  0.444]\n",
      " [ 0.334  1.494 -0.205  0.313 -0.854]\n",
      " [-2.553  0.654  0.864 -0.742  2.27 ]]\n",
      "\n",
      "\n",
      "b 불 인덱스 참조\n",
      " [[-0.977  0.95  -0.151 -0.103  0.411]]\n"
     ]
    }
   ],
   "source": [
    "# 연습문제 5-1\n",
    "# 불 인덱스를 이용해 b에 해당하는 데이터를 추출하시오\n",
    "# 데이터 생성\n",
    "sample_names = np.array(['a', 'b', 'c', 'd', 'a'])\n",
    "print('\\n')\n",
    "random.seed(0)\n",
    "data = random.randn(5, 5)\n",
    "\n",
    "print(sample_names)\n",
    "print(data)\n",
    "\n",
    "print('\\n')\n",
    "\n",
    "print('b 불 인덱스 참조\\n', data[sample_names == 'b'])"
   ]
  },
  {
   "cell_type": "code",
   "execution_count": 6,
   "metadata": {},
   "outputs": [
    {
     "name": "stdout",
     "output_type": "stream",
     "text": [
      "c 빼고 불 인덱스 참조\n",
      " [[ 1.764  0.4    0.979  2.241  1.868]\n",
      " [-0.977  0.95  -0.151 -0.103  0.411]\n",
      " [ 0.334  1.494 -0.205  0.313 -0.854]\n",
      " [-2.553  0.654  0.864 -0.742  2.27 ]]\n"
     ]
    }
   ],
   "source": [
    "# 연습문제 5-2\n",
    "\n",
    "print('c 빼고 불 인덱스 참조\\n', data[sample_names != 'c'])"
   ]
  },
  {
   "cell_type": "code",
   "execution_count": 7,
   "metadata": {},
   "outputs": [
    {
     "name": "stdout",
     "output_type": "stream",
     "text": [
      "[ 6  7  3  4 10]\n"
     ]
    }
   ],
   "source": [
    "# 연습문제 5-3\n",
    "# x: 3,4 , y: 1,2,5\n",
    "\n",
    "x_array = np.array([1, 2, 3, 4, 5])\n",
    "y_array = np.array([6, 7, 8, 9, 10])\n",
    "\n",
    "cond_data = np.array([True, True, False, False, True])\n",
    "print(np.where(cond_data, y_array, x_array))"
   ]
  },
  {
   "cell_type": "markdown",
   "metadata": {},
   "source": [
    "## 5. 2. 2. 넘파이를 이용한 연산 작업"
   ]
  },
  {
   "cell_type": "code",
   "execution_count": 8,
   "metadata": {},
   "outputs": [
    {
     "name": "stdout",
     "output_type": "stream",
     "text": [
      "[ True  True False False  True]\n",
      "[False  True]\n"
     ]
    }
   ],
   "source": [
    "# 중복 삭제\n",
    "\n",
    "cond_data = np.array([True, True, False, False, True])\n",
    "\n",
    "# cond_data를 출력\n",
    "print(cond_data)\n",
    "\n",
    "# 중복 원소 삭제\n",
    "print(np.unique(cond_data))"
   ]
  },
  {
   "cell_type": "code",
   "execution_count": 9,
   "metadata": {},
   "outputs": [
    {
     "name": "stdout",
     "output_type": "stream",
     "text": [
      "원본 데이터:  [0 1 2 3 4 5 6 7 8 9]\n",
      "모든 원소의 제곱근:  [0.    1.    1.414 1.732 2.    2.236 2.449 2.646 2.828 3.   ]\n",
      "모든 원소의 자연상수 지수함수:  [1.000e+00 2.718e+00 7.389e+00 2.009e+01 5.460e+01 1.484e+02 4.034e+02\n",
      " 1.097e+03 2.981e+03 8.103e+03]\n"
     ]
    }
   ],
   "source": [
    "# 범용함수\n",
    "sample_data = np.arange(10)\n",
    "print('원본 데이터: ', sample_data)\n",
    "print('모든 원소의 제곱근: ', np.sqrt(sample_data))\n",
    "print('모든 원소의 자연상수 지수함수: ', np.exp(sample_data))"
   ]
  },
  {
   "cell_type": "code",
   "execution_count": 10,
   "metadata": {},
   "outputs": [
    {
     "name": "stdout",
     "output_type": "stream",
     "text": [
      "[[0 1 2]\n",
      " [3 4 5]\n",
      " [6 7 8]]\n",
      "\n",
      "\n",
      "최솟값:  0\n",
      "최댓값:  8\n",
      "평균:  4.0\n",
      "합계:  36\n",
      "\n",
      "\n",
      "행 합계:  [ 3 12 21]\n",
      "열 합계:  [ 9 12 15]\n"
     ]
    }
   ],
   "source": [
    "# 최소, 최대 ,평균, 합계 계산\n",
    "\n",
    "# arange로 9개의 원소를 갖는 배열을 생성하고 reshape로 3*3 행렬로 재배열\n",
    "sample_multi_array_data1 = np.arange(9).reshape(3,3)\n",
    "\n",
    "print(sample_multi_array_data1)\n",
    "print('\\n')\n",
    "print('최솟값: ', sample_multi_array_data1.min())\n",
    "print('최댓값: ', sample_multi_array_data1.max())\n",
    "print('평균: ', sample_multi_array_data1.mean())\n",
    "print('합계: ', sample_multi_array_data1.sum())\n",
    "print('\\n')\n",
    "\n",
    "# 행렬을 지정해 합계를 구함\n",
    "print('행 합계: ', sample_multi_array_data1.sum(axis = 1))\n",
    "print('열 합계: ', sample_multi_array_data1.sum(axis = 0))"
   ]
  },
  {
   "cell_type": "code",
   "execution_count": 11,
   "metadata": {},
   "outputs": [
    {
     "name": "stdout",
     "output_type": "stream",
     "text": [
      "True가 적어도 하나라도 있는가?  True\n",
      "모두 True인가?  False\n",
      "\n",
      "\n",
      "[[0 1 2]\n",
      " [3 4 5]\n",
      " [6 7 8]]\n",
      "5보다 큰 숫자가 몇 개인가?  3\n"
     ]
    }
   ],
   "source": [
    "# 진릿값 판정\n",
    "\n",
    "# 진릿값 판정 배열함수\n",
    "cond_data = np.array([True, True, False, False, True])\n",
    "\n",
    "print('True가 적어도 하나라도 있는가? ', cond_data.any())\n",
    "print('모두 True인가? ', cond_data.all())\n",
    "print('\\n')\n",
    "\n",
    "sample_multi_array_data1 = np.arange(9).reshape(3, 3)\n",
    "print(sample_multi_array_data1)\n",
    "print('5보다 큰 숫자가 몇 개인가? ', (sample_multi_array_data1 > 5).sum())"
   ]
  },
  {
   "cell_type": "code",
   "execution_count": 12,
   "metadata": {},
   "outputs": [
    {
     "name": "stdout",
     "output_type": "stream",
     "text": [
      "[[0 1 2]\n",
      " [3 4 5]\n",
      " [6 7 8]]\n",
      "대각성분:  [0 4 8]\n",
      "대각성분의 합:  12\n"
     ]
    }
   ],
   "source": [
    "# 대각성분 계산\n",
    "\n",
    "# 행렬 연산\n",
    "sample_multi_array_data1 = np.arange(9).reshape(3,3)\n",
    "print(sample_multi_array_data1)\n",
    "\n",
    "print('대각성분: ', np.diag(sample_multi_array_data1))\n",
    "print('대각성분의 합: ', np.trace(sample_multi_array_data1))"
   ]
  },
  {
   "cell_type": "code",
   "execution_count": 13,
   "metadata": {},
   "outputs": [
    {
     "name": "stdout",
     "output_type": "stream",
     "text": [
      "[[ 0  1  2  3]\n",
      " [ 4  5  6  7]\n",
      " [ 8  9 10 11]\n",
      " [12 13 14 15]]\n",
      "\n",
      "\n",
      "모든 원소의 제곱근 행렬\n",
      " [[0.    1.    1.414 1.732]\n",
      " [2.    2.236 2.449 2.646]\n",
      " [2.828 3.    3.162 3.317]\n",
      " [3.464 3.606 3.742 3.873]]\n"
     ]
    }
   ],
   "source": [
    "# 연습문제 5-4\n",
    "# 다음 데이터에 대해 모든 원소의 제곱근 행렬을 출력하세요\n",
    "\n",
    "sample_multi_array_data2 = np.arange(16).reshape(4,4)\n",
    "print(sample_multi_array_data2)\n",
    "print('\\n')\n",
    "\n",
    "print('모든 원소의 제곱근 행렬\\n', np.sqrt(sample_multi_array_data2))"
   ]
  },
  {
   "cell_type": "code",
   "execution_count": 14,
   "metadata": {},
   "outputs": [
    {
     "name": "stdout",
     "output_type": "stream",
     "text": [
      "최솟값:  0\n",
      "최댓값:  15\n",
      "합계:  120\n",
      "평균:  7.5\n"
     ]
    }
   ],
   "source": [
    "# 연습문제 5-5\n",
    "print('최솟값: ', sample_multi_array_data2.min())\n",
    "print('최댓값: ', sample_multi_array_data2.max())\n",
    "print('합계: ', sample_multi_array_data2.sum())\n",
    "print('평균: ', sample_multi_array_data2.mean())"
   ]
  },
  {
   "cell_type": "code",
   "execution_count": 15,
   "metadata": {},
   "outputs": [
    {
     "name": "stdout",
     "output_type": "stream",
     "text": [
      "대각성분의 합:  30\n"
     ]
    }
   ],
   "source": [
    "# 연습문제 5-6\n",
    "print('대각성분의 합: ', np.trace(sample_multi_array_data2))"
   ]
  },
  {
   "cell_type": "markdown",
   "metadata": {},
   "source": [
    "## 5. 2. 3. 배열의 조작과 브로드캐스트"
   ]
  },
  {
   "cell_type": "code",
   "execution_count": 16,
   "metadata": {},
   "outputs": [
    {
     "name": "stdout",
     "output_type": "stream",
     "text": [
      "[0 1 2 3 4 5 6 7 8 9]\n",
      "\n",
      "\n",
      "[[0 1 2 3 4]\n",
      " [5 6 7 8 9]]\n",
      "\n",
      "\n",
      "[[0 1]\n",
      " [2 3]\n",
      " [4 5]\n",
      " [6 7]\n",
      " [8 9]]\n"
     ]
    }
   ],
   "source": [
    "# 재배열\n",
    "\n",
    "# 데이터 생성\n",
    "sample_array = np.arange(10)\n",
    "print(sample_array)\n",
    "print('\\n')\n",
    "\n",
    "# 재배열\n",
    "sample_array2 = sample_array.reshape(2,5)\n",
    "print(sample_array2)\n",
    "print('\\n')\n",
    "\n",
    "sample_array3 = sample_array.reshape(5,2)\n",
    "print(sample_array3)"
   ]
  },
  {
   "cell_type": "code",
   "execution_count": 17,
   "metadata": {},
   "outputs": [
    {
     "name": "stdout",
     "output_type": "stream",
     "text": [
      "[[1 2 3]\n",
      " [4 5 6]]\n",
      "\n",
      "\n",
      "[[ 7  8  9]\n",
      " [10 11 12]]\n",
      "\n",
      "\n"
     ]
    },
    {
     "data": {
      "text/plain": [
       "array([[ 1,  2,  3],\n",
       "       [ 4,  5,  6],\n",
       "       [ 7,  8,  9],\n",
       "       [10, 11, 12]])"
      ]
     },
     "execution_count": 17,
     "metadata": {},
     "output_type": "execute_result"
    }
   ],
   "source": [
    "# 데이터 결합\n",
    "\n",
    "# 수직 방향 결합\n",
    "\n",
    "# 데이터 생성\n",
    "sample_array3 = np.array([[1, 2, 3], [4, 5, 6]])\n",
    "sample_array4 = np.array([[7, 8, 9], [10, 11, 12]])\n",
    "print(sample_array3)\n",
    "print('\\n')\n",
    "print(sample_array4)\n",
    "print('\\n')\n",
    "\n",
    "# 수직 방향으로 결합, 파라미터 axis에 0 지정\n",
    "np.concatenate([sample_array3, sample_array4], axis = 0)"
   ]
  },
  {
   "cell_type": "code",
   "execution_count": 18,
   "metadata": {},
   "outputs": [
    {
     "data": {
      "text/plain": [
       "array([[ 1,  2,  3],\n",
       "       [ 4,  5,  6],\n",
       "       [ 7,  8,  9],\n",
       "       [10, 11, 12]])"
      ]
     },
     "execution_count": 18,
     "metadata": {},
     "output_type": "execute_result"
    }
   ],
   "source": [
    "# vstack을 이용한 수직 방향 결합\n",
    "np.vstack((sample_array3, sample_array4))"
   ]
  },
  {
   "cell_type": "code",
   "execution_count": 19,
   "metadata": {},
   "outputs": [
    {
     "data": {
      "text/plain": [
       "array([[ 1,  2,  3,  7,  8,  9],\n",
       "       [ 4,  5,  6, 10, 11, 12]])"
      ]
     },
     "execution_count": 19,
     "metadata": {},
     "output_type": "execute_result"
    }
   ],
   "source": [
    "# 수평 방향으로 결합, 파라미터 axis에 1 지정\n",
    "np.concatenate([sample_array3, sample_array4], axis = 1)"
   ]
  },
  {
   "cell_type": "code",
   "execution_count": 20,
   "metadata": {},
   "outputs": [
    {
     "data": {
      "text/plain": [
       "array([[ 1,  2,  3,  7,  8,  9],\n",
       "       [ 4,  5,  6, 10, 11, 12]])"
      ]
     },
     "execution_count": 20,
     "metadata": {},
     "output_type": "execute_result"
    }
   ],
   "source": [
    "# hstack을 이용한 수평 방향 결합\n",
    "np.hstack((sample_array3, sample_array4))"
   ]
  },
  {
   "cell_type": "code",
   "execution_count": 21,
   "metadata": {
    "lines_to_next_cell": 0
   },
   "outputs": [
    {
     "data": {
      "text/plain": [
       "array([[ 1,  2,  3],\n",
       "       [ 4,  5,  6],\n",
       "       [ 7,  8,  9],\n",
       "       [10, 11, 12]])"
      ]
     },
     "execution_count": 21,
     "metadata": {},
     "output_type": "execute_result"
    }
   ],
   "source": [
    "# 배열 분할\n",
    "\n",
    "# 데이터 생성\n",
    "sample_array3 = np.array([[1, 2, 3], [4, 5, 6]])\n",
    "sample_array4 = np.array([[7, 8, 9], [10, 11, 12]])\n",
    "sample_array_vstack = np.vstack((sample_array3, sample_array4))\n",
    "\n",
    "# 생성한 데이터 sample_array_vstack 출력\n",
    "sample_array_vstack"
   ]
  },
  {
   "cell_type": "code",
   "execution_count": 22,
   "metadata": {},
   "outputs": [
    {
     "name": "stdout",
     "output_type": "stream",
     "text": [
      "[[1 2 3]]\n",
      "\n",
      "\n",
      "[[4 5 6]\n",
      " [7 8 9]]\n",
      "\n",
      "\n",
      "[4 5 6]\n",
      "\n",
      "\n",
      "[[10 11 12]]\n"
     ]
    }
   ],
   "source": [
    "# sample_array_vstack을 이용해 분할한 뒤\n",
    "# 3개의 변수 first, second, third에 저장한다\n",
    "first, second, third = np.split(sample_array_vstack, [1, 3])\n",
    "\n",
    "# frist 출력\n",
    "print(first)\n",
    "print('\\n')\n",
    "\n",
    "# second 출력\n",
    "print(second)\n",
    "print('\\n')\n",
    "\n",
    "# second의 첫 번째 원소 출력\n",
    "print(second[0])\n",
    "print('\\n')\n",
    "\n",
    "# third 출력\n",
    "print(third)"
   ]
  },
  {
   "cell_type": "code",
   "execution_count": 23,
   "metadata": {},
   "outputs": [
    {
     "name": "stdout",
     "output_type": "stream",
     "text": [
      "[[ 1  2  3]\n",
      " [ 4  5  6]\n",
      " [ 7  8  9]\n",
      " [10 11 12]\n",
      " [13 14 15]\n",
      " [16 17 18]\n",
      " [19 20 21]]\n"
     ]
    }
   ],
   "source": [
    "# 데이터 생성\n",
    "sample_array5 = np.array([[13, 14, 15], [16, 17, 18], [19, 20, 21]])\n",
    "sample_array_vstack2 = np.vstack((sample_array3, sample_array4, sample_array5))\n",
    "\n",
    "# 원본 데이터\n",
    "print(sample_array_vstack2)"
   ]
  },
  {
   "cell_type": "code",
   "execution_count": 24,
   "metadata": {},
   "outputs": [
    {
     "name": "stdout",
     "output_type": "stream",
     "text": [
      "- 첫 번째: \n",
      " [[1 2 3]\n",
      " [4 5 6]] \n",
      "\n",
      "- 두 번째: \n",
      " [[7 8 9]] \n",
      "\n",
      "- 세 번째: \n",
      " [[10 11 12]\n",
      " [13 14 15]] \n",
      "\n",
      "- 네 번째: \n",
      " [[16 17 18]\n",
      " [19 20 21]] \n",
      "\n",
      "- 첫 번째의 첫 번째 원소: \n",
      " [1 2 3] \n",
      "\n",
      "- 첫 번째의 두 번째 원소: \n",
      " [4 5 6] \n",
      "\n"
     ]
    }
   ],
   "source": [
    "# sample_array_vstack2을 ~2, 2, 3~4, 5~ 형태의 4개로 분할하고 first, second, third, fourth에 저장\n",
    "\n",
    "first, second, third, fourth = np.split(sample_array_vstack2, [2, 3, 5])\n",
    "\n",
    "print('- 첫 번째: \\n', first, '\\n')\n",
    "print('- 두 번째: \\n', second, '\\n')\n",
    "print('- 세 번째: \\n', third, '\\n')\n",
    "print('- 네 번째: \\n', fourth, '\\n')\n",
    "\n",
    "print('- 첫 번째의 첫 번째 원소: \\n', first[0], '\\n')\n",
    "print('- 첫 번째의 두 번째 원소: \\n', first[1], '\\n')"
   ]
  },
  {
   "cell_type": "code",
   "execution_count": 25,
   "metadata": {},
   "outputs": [
    {
     "data": {
      "text/plain": [
       "array([1, 1, 1, 1, 1, 2, 2, 2, 2, 2, 3, 3, 3, 3, 3, 4, 4, 4, 4, 4, 5, 5,\n",
       "       5, 5, 5, 6, 6, 6, 6, 6])"
      ]
     },
     "execution_count": 25,
     "metadata": {},
     "output_type": "execute_result"
    }
   ],
   "source": [
    "# 반복 작업\n",
    "\n",
    "# repeat를 이용해 각 원소를 지정된 횟수만큼 반복해서 생성\n",
    "first.repeat(5)"
   ]
  },
  {
   "cell_type": "code",
   "execution_count": 26,
   "metadata": {},
   "outputs": [
    {
     "name": "stdout",
     "output_type": "stream",
     "text": [
      "[0 1 2 3 4 5 6 7 8 9]\n",
      "[ 3  4  5  6  7  8  9 10 11 12]\n"
     ]
    }
   ],
   "source": [
    "# broadcast\n",
    "\n",
    "# 데이터 생성\n",
    "sample_array = np.arange(10)\n",
    "print(sample_array)\n",
    "print(sample_array + 3)"
   ]
  },
  {
   "cell_type": "code",
   "execution_count": 27,
   "metadata": {},
   "outputs": [
    {
     "name": "stdout",
     "output_type": "stream",
     "text": [
      "[[ 0  1  2  3  0  1  2  3]\n",
      " [ 4  5  6  7  4  5  6  7]\n",
      " [ 8  9 10 11  8  9 10 11]]\n"
     ]
    }
   ],
   "source": [
    "# 연습문제 5-7\n",
    "\n",
    "# 데이터 생성\n",
    "sample_array1 = np.arange(12).reshape(3, 4)\n",
    "sample_array2 = np.arange(12).reshape(3, 4)\n",
    "\n",
    "sample_array_hstack = np.hstack((sample_array1, sample_array2))\n",
    "print(sample_array_hstack)"
   ]
  },
  {
   "cell_type": "code",
   "execution_count": 28,
   "metadata": {},
   "outputs": [
    {
     "name": "stdout",
     "output_type": "stream",
     "text": [
      "[[ 0  1  2  3]\n",
      " [ 4  5  6  7]\n",
      " [ 8  9 10 11]\n",
      " [ 0  1  2  3]\n",
      " [ 4  5  6  7]\n",
      " [ 8  9 10 11]]\n"
     ]
    }
   ],
   "source": [
    "# 연습문제 5-8\n",
    "\n",
    "sample_array_vstack = np.vstack((sample_array1, sample_array2))\n",
    "print(sample_array_vstack)"
   ]
  },
  {
   "cell_type": "code",
   "execution_count": 29,
   "metadata": {},
   "outputs": [
    {
     "name": "stdout",
     "output_type": "stream",
     "text": [
      "[4 5 6 7 8]\n"
     ]
    }
   ],
   "source": [
    "# 연습문제 5-9\n",
    "sample_list = [1, 2, 3, 4, 5]\n",
    "\n",
    "sample_list = np.array(sample_list) + 3\n",
    "\n",
    "print(sample_list)"
   ]
  },
  {
   "cell_type": "markdown",
   "metadata": {},
   "source": [
    "# 5. 3. 사이파이 응용"
   ]
  },
  {
   "cell_type": "markdown",
   "metadata": {
    "lines_to_next_cell": 2
   },
   "source": [
    "## 5. 3. 1. 보간법"
   ]
  },
  {
   "cell_type": "code",
   "execution_count": 30,
   "metadata": {
    "scrolled": true
   },
   "outputs": [
    {
     "data": {
      "image/png": "[encoded data removed]",
      "text/plain": [
       "<Figure size 432x288 with 1 Axes>"
      ]
     },
     "metadata": {
      "needs_background": "light"
     },
     "output_type": "display_data"
    }
   ],
   "source": [
    "# x는 linspace를 이용해 0에서 10까지 11개의 원소를 갖는 등차수열\n",
    "x = np.linspace(0, 10, num = 11, endpoint = True)\n",
    "\n",
    "# y값 생성\n",
    "y = np.cos(-x**2 / 5.0)\n",
    "plt.plot(x, y, 'o')\n",
    "plt.grid(True)"
   ]
  },
  {
   "cell_type": "code",
   "execution_count": 31,
   "metadata": {},
   "outputs": [
    {
     "data": {
      "image/png": "[encoded data removed]",
      "text/plain": [
       "<Figure size 432x288 with 1 Axes>"
      ]
     },
     "metadata": {
      "needs_background": "light"
     },
     "output_type": "display_data"
    }
   ],
   "source": [
    "# 선형보간법\n",
    "\n",
    "from scipy import interpolate\n",
    "\n",
    "# 선형보간. interp1dd의 파라미터로 linear 지정\n",
    "f = interpolate.interp1d(x, y, 'linear')\n",
    "plt.plot(x, f(x), '-')\n",
    "plt.grid(True)"
   ]
  },
  {
   "cell_type": "code",
   "execution_count": 32,
   "metadata": {
    "scrolled": true
   },
   "outputs": [
    {
     "data": {
      "image/png": "[encoded data removed]",
      "text/plain": [
       "<Figure size 432x288 with 1 Axes>"
      ]
     },
     "metadata": {
      "needs_background": "light"
     },
     "output_type": "display_data"
    }
   ],
   "source": [
    "# 스플라인 3차 보간법\n",
    "\n",
    "# 스플라인 3차 보간을 계산해 f2에 저장, 파라미터 cubic을 지정\n",
    "f2 = interpolate.interp1d(x, y, 'cubic')\n",
    "\n",
    "# 곡선을 만들기 위해 x 값을 촘촘하게 생성\n",
    "xnew = np.linspace(0, 10, num = 30, endpoint = True)\n",
    "\n",
    "# 그래프 생성. f를 곡선으로 f2를 점선으로 그림\n",
    "plt.plot(x, y, 'ro', xnew, f(xnew), 'y-', xnew, f2(xnew), 'g--')\n",
    "\n",
    "# 범례\n",
    "plt.legend(['data', 'linear', 'cubic'], loc = 'best')\n",
    "plt.grid(True)"
   ]
  },
  {
   "cell_type": "code",
   "execution_count": 33,
   "metadata": {
    "scrolled": true
   },
   "outputs": [
    {
     "data": {
      "image/png": "[encoded data removed]",
      "text/plain": [
       "<Figure size 432x288 with 1 Axes>"
      ]
     },
     "metadata": {
      "needs_background": "light"
     },
     "output_type": "display_data"
    }
   ],
   "source": [
    "# 연습문제 5-10\n",
    "x = np.linspace(0, 10, num = 11, endpoint = True)\n",
    "y = np.sin(x**2 / 5.0)\n",
    "plt.plot(x, y, 'ro')\n",
    "plt.grid(True)\n",
    "\n",
    "from scipy import interpolate\n",
    "\n",
    "# 선형보간. interp1dd의 파라미터로 linear 지정\n",
    "f = interpolate.interp1d(x, y, 'linear')\n",
    "plt.plot(x, f(x), 'orange', '-')\n",
    "plt.grid(True)\n",
    "\n",
    "# 근데 왜  y축 값이 사라지지? 오렌지 알러지..."
   ]
  },
  {
   "cell_type": "code",
   "execution_count": 34,
   "metadata": {},
   "outputs": [
    {
     "data": {
      "image/png": "[encoded data removed]",
      "text/plain": [
       "<Figure size 432x288 with 1 Axes>"
      ]
     },
     "metadata": {
      "needs_background": "light"
     },
     "output_type": "display_data"
    }
   ],
   "source": [
    "# 연습문제 5-11\n",
    "x = np.linspace(0, 10, num = 11, endpoint = True)\n",
    "y = np.sin(x**2 / 5.0)\n",
    "\n",
    "xnew = np.linspace(0, 10, num = 30, endpoint = True)\n",
    "f = interpolate.interp1d(x, y, 'linear')\n",
    "f2 = interpolate.interp1d(x, y, 'quadratic')\n",
    "\n",
    "plt.plot(x, y, 'ro', xnew, f(xnew), 'y-', xnew, f2(xnew), 'g--')\n",
    "\n",
    "\n",
    "plt.legend(['data', 'linear', 'quad'], loc = 'best')\n",
    "plt.grid(True)"
   ]
  },
  {
   "cell_type": "code",
   "execution_count": 35,
   "metadata": {},
   "outputs": [
    {
     "data": {
      "image/png": "[encoded data removed]",
      "text/plain": [
       "<Figure size 432x288 with 1 Axes>"
      ]
     },
     "metadata": {
      "needs_background": "light"
     },
     "output_type": "display_data"
    }
   ],
   "source": [
    "# 연습문제 5-11\n",
    "x = np.linspace(0, 10, num = 11, endpoint = True)\n",
    "y = np.sin(x**2 / 5.0)\n",
    "\n",
    "xnew = np.linspace(0, 10, num = 30, endpoint = True)\n",
    "f = interpolate.interp1d(x, y, 'linear')\n",
    "f2 = interpolate.interp1d(x, y, 'quadratic')\n",
    "f3 = interpolate.interp1d(x, y, 'cubic')\n",
    "\n",
    "plt.plot(x, y, 'ro', xnew, f(xnew), 'y-', xnew, f2(xnew), 'g--', xnew, f3(xnew), 'c.-')\n",
    "\n",
    "\n",
    "plt.legend(['data', 'linear', 'quad', 'cubic'], loc = 'best')\n",
    "plt.grid(True)"
   ]
  },
  {
   "cell_type": "markdown",
   "metadata": {},
   "source": [
    "## 5. 3. 2. 선형대수: 행렬 분해"
   ]
  },
  {
   "cell_type": "code",
   "execution_count": 36,
   "metadata": {},
   "outputs": [
    {
     "name": "stdout",
     "output_type": "stream",
     "text": [
      "A\n",
      " [[ 1  2  3  4  5]\n",
      " [ 6  7  8  9 10]]\n",
      "\n",
      "U\n",
      " [[-0.37  -0.929]\n",
      " [-0.929  0.37 ]]\n",
      "\n",
      "S\n",
      " [[19.538  0.     0.     0.     0.   ]\n",
      " [ 0.     1.81   0.     0.     0.   ]]\n",
      "\n",
      "V*\n",
      " [[-0.304 -0.371 -0.437 -0.504 -0.57 ]\n",
      " [ 0.712  0.403  0.094 -0.215 -0.524]\n",
      " [-0.374 -0.008  0.862 -0.206 -0.274]\n",
      " [-0.365  0.371 -0.159  0.665 -0.512]\n",
      " [-0.357  0.75  -0.179 -0.464  0.251]]\n",
      "\n",
      "U.S.V* = \n",
      " [[ 1.  2.  3.  4.  5.]\n",
      " [ 6.  7.  8.  9. 10.]]\n"
     ]
    }
   ],
   "source": [
    "# 특잇값 분해\n",
    "\n",
    "# (2, 5)행렬\n",
    "A = np.array ([[1, 2, 3, 4, 5], [6, 7, 8, 9, 10]])\n",
    "print('A\\n', A)\n",
    "\n",
    "# 특잇값 분해 함수 linalg.svd\n",
    "# A = USV*\n",
    "# U = A(A*)의 고유벡터를 열벡터로 나열한 행렬\n",
    "# S = 특잇값을 대각으로 나열한 행렬\n",
    "# V* = (A*)A의 고유벡터를 열벡터로 나열한 행렬\n",
    "U, s, Vs = sp.linalg.svd(A)\n",
    "m, n = A.shape\n",
    "\n",
    "S = sp.linalg.diagsvd(s, m, n)\n",
    "\n",
    "print('\\nU\\n', U)\n",
    "print('\\nS\\n', S)\n",
    "print('\\nV*\\n', Vs)\n",
    "print('\\nU.S.V* = \\n', U@S@Vs)"
   ]
  },
  {
   "cell_type": "code",
   "execution_count": 37,
   "metadata": {},
   "outputs": [
    {
     "name": "stdout",
     "output_type": "stream",
     "text": [
      "A\n",
      " [[5. 1. 1. 1. 1.]\n",
      " [1. 1. 0. 0. 0.]\n",
      " [1. 0. 1. 0. 0.]\n",
      " [1. 0. 0. 1. 0.]\n",
      " [1. 0. 0. 0. 1.]]\n",
      "\n",
      "P\n",
      " [[1. 0. 0. 0. 0.]\n",
      " [0. 1. 0. 0. 0.]\n",
      " [0. 0. 1. 0. 0.]\n",
      " [0. 0. 0. 1. 0.]\n",
      " [0. 0. 0. 0. 1.]]\n",
      "\n",
      "L\n",
      " [[ 1.     0.     0.     0.     0.   ]\n",
      " [ 0.2    1.     0.     0.     0.   ]\n",
      " [ 0.2   -0.25   1.     0.     0.   ]\n",
      " [ 0.2   -0.25  -0.333  1.     0.   ]\n",
      " [ 0.2   -0.25  -0.333 -0.5    1.   ]]\n",
      "\n",
      "U\n",
      " [[ 5.     1.     1.     1.     1.   ]\n",
      " [ 0.     0.8   -0.2   -0.2   -0.2  ]\n",
      " [ 0.     0.     0.75  -0.25  -0.25 ]\n",
      " [ 0.     0.     0.     0.667 -0.333]\n",
      " [ 0.     0.     0.     0.     0.5  ]]\n",
      "\n",
      "x\n",
      " [-3.  4.  4.  4.  4.]\n"
     ]
    }
   ],
   "source": [
    "# LU분해\n",
    "\n",
    "from scipy import linalg\n",
    "\n",
    "A = np.identity(5)\n",
    "A[0, :] = 1\n",
    "A[:, 0] = 1\n",
    "A[0, 0] = 5\n",
    "b = np.ones(5)\n",
    "\n",
    "print('A\\n', A)\n",
    "\n",
    "# 정방행렬을 LU 분해함\n",
    "# A = PLU\n",
    "# P: 치환행렬\n",
    "# L: 모든 대각성분이 1인 상삼각행렬\n",
    "# U: 모든 대각성분이 1인 하삼각행렬\n",
    "(LU, piv) = sp.linalg.lu_factor(A)\n",
    "L = np.identity(5) + np.tril(LU, -1)\n",
    "U = np.triu(LU)\n",
    "P = np.identity(5)[piv]\n",
    "\n",
    "print('\\nP\\n', P)\n",
    "print('\\nL\\n', L)\n",
    "print('\\nU\\n', U)\n",
    "\n",
    "\n",
    "# 해를 구함\n",
    "x = sp.linalg.lu_solve((LU, piv), b)\n",
    "print('\\nx\\n', x)"
   ]
  },
  {
   "cell_type": "code",
   "execution_count": 38,
   "metadata": {
    "scrolled": true
   },
   "outputs": [
    {
     "name": "stdout",
     "output_type": "stream",
     "text": [
      "Help on function tril in module numpy:\n",
      "\n",
      "tril(m, k=0)\n",
      "    Lower triangle of an array.\n",
      "    \n",
      "    Return a copy of an array with elements above the `k`-th diagonal zeroed.\n",
      "    \n",
      "    Parameters\n",
      "    ----------\n",
      "    m : array_like, shape (M, N)\n",
      "        Input array.\n",
      "    k : int, optional\n",
      "        Diagonal above which to zero elements.  `k = 0` (the default) is the\n",
      "        main diagonal, `k < 0` is below it and `k > 0` is above.\n",
      "    \n",
      "    Returns\n",
      "    -------\n",
      "    tril : ndarray, shape (M, N)\n",
      "        Lower triangle of `m`, of same shape and data-type as `m`.\n",
      "    \n",
      "    See Also\n",
      "    --------\n",
      "    triu : same thing, only for the upper triangle\n",
      "    \n",
      "    Examples\n",
      "    --------\n",
      "    >>> np.tril([[1,2,3],[4,5,6],[7,8,9],[10,11,12]], -1)\n",
      "    array([[ 0,  0,  0],\n",
      "           [ 4,  0,  0],\n",
      "           [ 7,  8,  0],\n",
      "           [10, 11, 12]])\n",
      "\n"
     ]
    }
   ],
   "source": [
    "help(np.tril)"
   ]
  },
  {
   "cell_type": "code",
   "execution_count": 39,
   "metadata": {},
   "outputs": [
    {
     "name": "stdout",
     "output_type": "stream",
     "text": [
      "\n",
      "L\n",
      " [[ 2.646 -0.378  0.     0.378]\n",
      " [ 0.     2.976 -0.672  0.72 ]\n",
      " [ 0.     0.     2.747 -0.916]\n",
      " [ 0.     0.     0.     2.915]]\n",
      "\n",
      "t\n",
      " [1.89  6.96  1.702 5.431]\n",
      "\n",
      "x\n",
      " [0.758 2.168 1.241 1.863]\n",
      "\n",
      "A*x\n",
      " [5.000e+00 2.000e+01 3.553e-15 2.000e+01]\n",
      "\n",
      "b\n",
      " [ 5 20  0 20]\n"
     ]
    }
   ],
   "source": [
    "# 숄레스키 분해\n",
    "# A: 에르미트 행렬이면서 양의 정부호 행렬일 때\n",
    "\n",
    "A = np.array([[7, -1, 0, 1],\n",
    "              [-1, 9, -2, 2],\n",
    "              [0, -2, 8, -3], \n",
    "              [1, 2, -3, 10]])\n",
    "b = np.array([5, 20, 0, 20])\n",
    "\n",
    "# A = L(L*)\n",
    "\n",
    "L = sp.linalg.cholesky(A)\n",
    "\n",
    "t = sp.linalg.solve(L.T.conj(), b)\n",
    "x = sp.linalg.solve(L, t)\n",
    "\n",
    "print('\\nL\\n', L)\n",
    "print('\\nt\\n', t)\n",
    "\n",
    "# 해답\n",
    "print('\\nx\\n', x)\n",
    "\n",
    "# 확인\n",
    "print('\\nA*x\\n', np.dot(A, x))\n",
    "print('\\nb\\n', b)"
   ]
  },
  {
   "cell_type": "code",
   "execution_count": 40,
   "metadata": {},
   "outputs": [
    {
     "name": "stdout",
     "output_type": "stream",
     "text": [
      "Help on ufunc object:\n",
      "\n",
      "conjugate = class ufunc(builtins.object)\n",
      " |  Functions that operate element by element on whole arrays.\n",
      " |  \n",
      " |  To see the documentation for a specific ufunc, use `info`.  For\n",
      " |  example, ``np.info(np.sin)``.  Because ufuncs are written in C\n",
      " |  (for speed) and linked into Python with NumPy's ufunc facility,\n",
      " |  Python's help() function finds this page whenever help() is called\n",
      " |  on a ufunc.\n",
      " |  \n",
      " |  A detailed explanation of ufuncs can be found in the docs for :ref:`ufuncs`.\n",
      " |  \n",
      " |  Calling ufuncs:\n",
      " |  ===============\n",
      " |  \n",
      " |  op(*x[, out], where=True, **kwargs)\n",
      " |  Apply `op` to the arguments `*x` elementwise, broadcasting the arguments.\n",
      " |  \n",
      " |  The broadcasting rules are:\n",
      " |  \n",
      " |  * Dimensions of length 1 may be prepended to either array.\n",
      " |  * Arrays may be repeated along dimensions of length 1.\n",
      " |  \n",
      " |  Parameters\n",
      " |  ----------\n",
      " |  *x : array_like\n",
      " |      Input arrays.\n",
      " |  out : ndarray, None, or tuple of ndarray and None, optional\n",
      " |      Alternate array object(s) in which to put the result; if provided, it\n",
      " |      must have a shape that the inputs broadcast to. A tuple of arrays\n",
      " |      (possible only as a keyword argument) must have length equal to the\n",
      " |      number of outputs; use `None` for uninitialized outputs to be\n",
      " |      allocated by the ufunc.\n",
      " |  where : array_like, optional\n",
      " |      Values of True indicate to calculate the ufunc at that position, values\n",
      " |      of False indicate to leave the value in the output alone.  Note that if\n",
      " |      an uninitialized return array is created via the default ``out=None``,\n",
      " |      then the elements where the values are False will remain uninitialized.\n",
      " |  **kwargs\n",
      " |      For other keyword-only arguments, see the :ref:`ufunc docs <ufuncs.kwargs>`.\n",
      " |  \n",
      " |  Returns\n",
      " |  -------\n",
      " |  r : ndarray or tuple of ndarray\n",
      " |      `r` will have the shape that the arrays in `x` broadcast to; if `out` is\n",
      " |      provided, it will be returned. If not, `r` will be allocated and\n",
      " |      may contain uninitialized values. If the function has more than one\n",
      " |      output, then the result will be a tuple of arrays.\n",
      " |  \n",
      " |  Methods defined here:\n",
      " |  \n",
      " |  __call__(self, /, *args, **kwargs)\n",
      " |      Call self as a function.\n",
      " |  \n",
      " |  __repr__(self, /)\n",
      " |      Return repr(self).\n",
      " |  \n",
      " |  __str__(self, /)\n",
      " |      Return str(self).\n",
      " |  \n",
      " |  accumulate(...)\n",
      " |      accumulate(array, axis=0, dtype=None, out=None)\n",
      " |      \n",
      " |      Accumulate the result of applying the operator to all elements.\n",
      " |      \n",
      " |      For a one-dimensional array, accumulate produces results equivalent to::\n",
      " |      \n",
      " |        r = np.empty(len(A))\n",
      " |        t = op.identity        # op = the ufunc being applied to A's  elements\n",
      " |        for i in range(len(A)):\n",
      " |            t = op(t, A[i])\n",
      " |            r[i] = t\n",
      " |        return r\n",
      " |      \n",
      " |      For example, add.accumulate() is equivalent to np.cumsum().\n",
      " |      \n",
      " |      For a multi-dimensional array, accumulate is applied along only one\n",
      " |      axis (axis zero by default; see Examples below) so repeated use is\n",
      " |      necessary if one wants to accumulate over multiple axes.\n",
      " |      \n",
      " |      Parameters\n",
      " |      ----------\n",
      " |      array : array_like\n",
      " |          The array to act on.\n",
      " |      axis : int, optional\n",
      " |          The axis along which to apply the accumulation; default is zero.\n",
      " |      dtype : data-type code, optional\n",
      " |          The data-type used to represent the intermediate results. Defaults\n",
      " |          to the data-type of the output array if such is provided, or the\n",
      " |          the data-type of the input array if no output array is provided.\n",
      " |      out : ndarray, None, or tuple of ndarray and None, optional\n",
      " |          A location into which the result is stored. If not provided or `None`,\n",
      " |          a freshly-allocated array is returned. For consistency with\n",
      " |          :ref:`ufunc.__call__`, if given as a keyword, this may be wrapped in a\n",
      " |          1-element tuple.\n",
      " |      \n",
      " |          .. versionchanged:: 1.13.0\n",
      " |             Tuples are allowed for keyword argument.\n",
      " |      \n",
      " |      Returns\n",
      " |      -------\n",
      " |      r : ndarray\n",
      " |          The accumulated values. If `out` was supplied, `r` is a reference to\n",
      " |          `out`.\n",
      " |      \n",
      " |      Examples\n",
      " |      --------\n",
      " |      1-D array examples:\n",
      " |      \n",
      " |      >>> np.add.accumulate([2, 3, 5])\n",
      " |      array([ 2,  5, 10])\n",
      " |      >>> np.multiply.accumulate([2, 3, 5])\n",
      " |      array([ 2,  6, 30])\n",
      " |      \n",
      " |      2-D array examples:\n",
      " |      \n",
      " |      >>> I = np.eye(2)\n",
      " |      >>> I\n",
      " |      array([[ 1.,  0.],\n",
      " |             [ 0.,  1.]])\n",
      " |      \n",
      " |      Accumulate along axis 0 (rows), down columns:\n",
      " |      \n",
      " |      >>> np.add.accumulate(I, 0)\n",
      " |      array([[ 1.,  0.],\n",
      " |             [ 1.,  1.]])\n",
      " |      >>> np.add.accumulate(I) # no axis specified = axis zero\n",
      " |      array([[ 1.,  0.],\n",
      " |             [ 1.,  1.]])\n",
      " |      \n",
      " |      Accumulate along axis 1 (columns), through rows:\n",
      " |      \n",
      " |      >>> np.add.accumulate(I, 1)\n",
      " |      array([[ 1.,  1.],\n",
      " |             [ 0.,  1.]])\n",
      " |  \n",
      " |  at(...)\n",
      " |      at(a, indices, b=None)\n",
      " |      \n",
      " |      Performs unbuffered in place operation on operand 'a' for elements\n",
      " |      specified by 'indices'. For addition ufunc, this method is equivalent to\n",
      " |      ``a[indices] += b``, except that results are accumulated for elements that\n",
      " |      are indexed more than once. For example, ``a[[0,0]] += 1`` will only\n",
      " |      increment the first element once because of buffering, whereas\n",
      " |      ``add.at(a, [0,0], 1)`` will increment the first element twice.\n",
      " |      \n",
      " |      .. versionadded:: 1.8.0\n",
      " |      \n",
      " |      Parameters\n",
      " |      ----------\n",
      " |      a : array_like\n",
      " |          The array to perform in place operation on.\n",
      " |      indices : array_like or tuple\n",
      " |          Array like index object or slice object for indexing into first\n",
      " |          operand. If first operand has multiple dimensions, indices can be a\n",
      " |          tuple of array like index objects or slice objects.\n",
      " |      b : array_like\n",
      " |          Second operand for ufuncs requiring two operands. Operand must be\n",
      " |          broadcastable over first operand after indexing or slicing.\n",
      " |      \n",
      " |      Examples\n",
      " |      --------\n",
      " |      Set items 0 and 1 to their negative values:\n",
      " |      \n",
      " |      >>> a = np.array([1, 2, 3, 4])\n",
      " |      >>> np.negative.at(a, [0, 1])\n",
      " |      >>> print(a)\n",
      " |      array([-1, -2, 3, 4])\n",
      " |      \n",
      " |      Increment items 0 and 1, and increment item 2 twice:\n",
      " |      \n",
      " |      >>> a = np.array([1, 2, 3, 4])\n",
      " |      >>> np.add.at(a, [0, 1, 2, 2], 1)\n",
      " |      >>> print(a)\n",
      " |      array([2, 3, 5, 4])\n",
      " |      \n",
      " |      Add items 0 and 1 in first array to second array,\n",
      " |      and store results in first array:\n",
      " |      \n",
      " |      >>> a = np.array([1, 2, 3, 4])\n",
      " |      >>> b = np.array([1, 2])\n",
      " |      >>> np.add.at(a, [0, 1], b)\n",
      " |      >>> print(a)\n",
      " |      array([2, 4, 3, 4])\n",
      " |  \n",
      " |  outer(...)\n",
      " |      outer(A, B, **kwargs)\n",
      " |      \n",
      " |      Apply the ufunc `op` to all pairs (a, b) with a in `A` and b in `B`.\n",
      " |      \n",
      " |      Let ``M = A.ndim``, ``N = B.ndim``. Then the result, `C`, of\n",
      " |      ``op.outer(A, B)`` is an array of dimension M + N such that:\n",
      " |      \n",
      " |      .. math:: C[i_0, ..., i_{M-1}, j_0, ..., j_{N-1}] =\n",
      " |         op(A[i_0, ..., i_{M-1}], B[j_0, ..., j_{N-1}])\n",
      " |      \n",
      " |      For `A` and `B` one-dimensional, this is equivalent to::\n",
      " |      \n",
      " |        r = empty(len(A),len(B))\n",
      " |        for i in range(len(A)):\n",
      " |            for j in range(len(B)):\n",
      " |                r[i,j] = op(A[i], B[j]) # op = ufunc in question\n",
      " |      \n",
      " |      Parameters\n",
      " |      ----------\n",
      " |      A : array_like\n",
      " |          First array\n",
      " |      B : array_like\n",
      " |          Second array\n",
      " |      kwargs : any\n",
      " |          Arguments to pass on to the ufunc. Typically `dtype` or `out`.\n",
      " |      \n",
      " |      Returns\n",
      " |      -------\n",
      " |      r : ndarray\n",
      " |          Output array\n",
      " |      \n",
      " |      See Also\n",
      " |      --------\n",
      " |      numpy.outer\n",
      " |      \n",
      " |      Examples\n",
      " |      --------\n",
      " |      >>> np.multiply.outer([1, 2, 3], [4, 5, 6])\n",
      " |      array([[ 4,  5,  6],\n",
      " |             [ 8, 10, 12],\n",
      " |             [12, 15, 18]])\n",
      " |      \n",
      " |      A multi-dimensional example:\n",
      " |      \n",
      " |      >>> A = np.array([[1, 2, 3], [4, 5, 6]])\n",
      " |      >>> A.shape\n",
      " |      (2, 3)\n",
      " |      >>> B = np.array([[1, 2, 3, 4]])\n",
      " |      >>> B.shape\n",
      " |      (1, 4)\n",
      " |      >>> C = np.multiply.outer(A, B)\n",
      " |      >>> C.shape; C\n",
      " |      (2, 3, 1, 4)\n",
      " |      array([[[[ 1,  2,  3,  4]],\n",
      " |              [[ 2,  4,  6,  8]],\n",
      " |              [[ 3,  6,  9, 12]]],\n",
      " |             [[[ 4,  8, 12, 16]],\n",
      " |              [[ 5, 10, 15, 20]],\n",
      " |              [[ 6, 12, 18, 24]]]])\n",
      " |  \n",
      " |  reduce(...)\n",
      " |      reduce(a, axis=0, dtype=None, out=None, keepdims=False, initial)\n",
      " |      \n",
      " |      Reduces `a`'s dimension by one, by applying ufunc along one axis.\n",
      " |      \n",
      " |      Let :math:`a.shape = (N_0, ..., N_i, ..., N_{M-1})`.  Then\n",
      " |      :math:`ufunc.reduce(a, axis=i)[k_0, ..,k_{i-1}, k_{i+1}, .., k_{M-1}]` =\n",
      " |      the result of iterating `j` over :math:`range(N_i)`, cumulatively applying\n",
      " |      ufunc to each :math:`a[k_0, ..,k_{i-1}, j, k_{i+1}, .., k_{M-1}]`.\n",
      " |      For a one-dimensional array, reduce produces results equivalent to:\n",
      " |      ::\n",
      " |      \n",
      " |       r = op.identity # op = ufunc\n",
      " |       for i in range(len(A)):\n",
      " |         r = op(r, A[i])\n",
      " |       return r\n",
      " |      \n",
      " |      For example, add.reduce() is equivalent to sum().\n",
      " |      \n",
      " |      Parameters\n",
      " |      ----------\n",
      " |      a : array_like\n",
      " |          The array to act on.\n",
      " |      axis : None or int or tuple of ints, optional\n",
      " |          Axis or axes along which a reduction is performed.\n",
      " |          The default (`axis` = 0) is perform a reduction over the first\n",
      " |          dimension of the input array. `axis` may be negative, in\n",
      " |          which case it counts from the last to the first axis.\n",
      " |      \n",
      " |          .. versionadded:: 1.7.0\n",
      " |      \n",
      " |          If this is `None`, a reduction is performed over all the axes.\n",
      " |          If this is a tuple of ints, a reduction is performed on multiple\n",
      " |          axes, instead of a single axis or all the axes as before.\n",
      " |      \n",
      " |          For operations which are either not commutative or not associative,\n",
      " |          doing a reduction over multiple axes is not well-defined. The\n",
      " |          ufuncs do not currently raise an exception in this case, but will\n",
      " |          likely do so in the future.\n",
      " |      dtype : data-type code, optional\n",
      " |          The type used to represent the intermediate results. Defaults\n",
      " |          to the data-type of the output array if this is provided, or\n",
      " |          the data-type of the input array if no output array is provided.\n",
      " |      out : ndarray, None, or tuple of ndarray and None, optional\n",
      " |          A location into which the result is stored. If not provided or `None`,\n",
      " |          a freshly-allocated array is returned. For consistency with\n",
      " |          :ref:`ufunc.__call__`, if given as a keyword, this may be wrapped in a\n",
      " |          1-element tuple.\n",
      " |      \n",
      " |          .. versionchanged:: 1.13.0\n",
      " |             Tuples are allowed for keyword argument.\n",
      " |      keepdims : bool, optional\n",
      " |          If this is set to True, the axes which are reduced are left\n",
      " |          in the result as dimensions with size one. With this option,\n",
      " |          the result will broadcast correctly against the original `arr`.\n",
      " |      \n",
      " |          .. versionadded:: 1.7.0\n",
      " |      initial : scalar, optional\n",
      " |          The value with which to start the reduction.\n",
      " |          If the ufunc has no identity or the dtype is object, this defaults\n",
      " |          to None - otherwise it defaults to ufunc.identity.\n",
      " |          If ``None`` is given, the first element of the reduction is used,\n",
      " |          and an error is thrown if the reduction is empty.\n",
      " |      \n",
      " |          .. versionadded:: 1.15.0\n",
      " |      \n",
      " |      Returns\n",
      " |      -------\n",
      " |      r : ndarray\n",
      " |          The reduced array. If `out` was supplied, `r` is a reference to it.\n",
      " |      \n",
      " |      Examples\n",
      " |      --------\n",
      " |      >>> np.multiply.reduce([2,3,5])\n",
      " |      30\n",
      " |      \n",
      " |      A multi-dimensional array example:\n",
      " |      \n",
      " |      >>> X = np.arange(8).reshape((2,2,2))\n",
      " |      >>> X\n",
      " |      array([[[0, 1],\n",
      " |              [2, 3]],\n",
      " |             [[4, 5],\n",
      " |              [6, 7]]])\n",
      " |      >>> np.add.reduce(X, 0)\n",
      " |      array([[ 4,  6],\n",
      " |             [ 8, 10]])\n",
      " |      >>> np.add.reduce(X) # confirm: default axis value is 0\n",
      " |      array([[ 4,  6],\n",
      " |             [ 8, 10]])\n",
      " |      >>> np.add.reduce(X, 1)\n",
      " |      array([[ 2,  4],\n",
      " |             [10, 12]])\n",
      " |      >>> np.add.reduce(X, 2)\n",
      " |      array([[ 1,  5],\n",
      " |             [ 9, 13]])\n",
      " |      \n",
      " |      You can use the ``initial`` keyword argument to initialize the reduction with a\n",
      " |      different value.\n",
      " |      \n",
      " |      >>> np.add.reduce([10], initial=5)\n",
      " |      15\n",
      " |      >>> np.add.reduce(np.ones((2, 2, 2)), axis=(0, 2), initializer=10)\n",
      " |      array([14., 14.])\n",
      " |      \n",
      " |      Allows reductions of empty arrays where they would normally fail, i.e.\n",
      " |      for ufuncs without an identity.\n",
      " |      \n",
      " |      >>> np.minimum.reduce([], initial=np.inf)\n",
      " |      inf\n",
      " |      >>> np.minimum.reduce([])\n",
      " |      Traceback (most recent call last):\n",
      " |          ...\n",
      " |      ValueError: zero-size array to reduction operation minimum which has no identity\n",
      " |  \n",
      " |  reduceat(...)\n",
      " |      reduceat(a, indices, axis=0, dtype=None, out=None)\n",
      " |      \n",
      " |      Performs a (local) reduce with specified slices over a single axis.\n",
      " |      \n",
      " |      For i in ``range(len(indices))``, `reduceat` computes\n",
      " |      ``ufunc.reduce(a[indices[i]:indices[i+1]])``, which becomes the i-th\n",
      " |      generalized \"row\" parallel to `axis` in the final result (i.e., in a\n",
      " |      2-D array, for example, if `axis = 0`, it becomes the i-th row, but if\n",
      " |      `axis = 1`, it becomes the i-th column).  There are three exceptions to this:\n",
      " |      \n",
      " |      * when ``i = len(indices) - 1`` (so for the last index),\n",
      " |        ``indices[i+1] = a.shape[axis]``.\n",
      " |      * if ``indices[i] >= indices[i + 1]``, the i-th generalized \"row\" is\n",
      " |        simply ``a[indices[i]]``.\n",
      " |      * if ``indices[i] >= len(a)`` or ``indices[i] < 0``, an error is raised.\n",
      " |      \n",
      " |      The shape of the output depends on the size of `indices`, and may be\n",
      " |      larger than `a` (this happens if ``len(indices) > a.shape[axis]``).\n",
      " |      \n",
      " |      Parameters\n",
      " |      ----------\n",
      " |      a : array_like\n",
      " |          The array to act on.\n",
      " |      indices : array_like\n",
      " |          Paired indices, comma separated (not colon), specifying slices to\n",
      " |          reduce.\n",
      " |      axis : int, optional\n",
      " |          The axis along which to apply the reduceat.\n",
      " |      dtype : data-type code, optional\n",
      " |          The type used to represent the intermediate results. Defaults\n",
      " |          to the data type of the output array if this is provided, or\n",
      " |          the data type of the input array if no output array is provided.\n",
      " |      out : ndarray, None, or tuple of ndarray and None, optional\n",
      " |          A location into which the result is stored. If not provided or `None`,\n",
      " |          a freshly-allocated array is returned. For consistency with\n",
      " |          :ref:`ufunc.__call__`, if given as a keyword, this may be wrapped in a\n",
      " |          1-element tuple.\n",
      " |      \n",
      " |          .. versionchanged:: 1.13.0\n",
      " |             Tuples are allowed for keyword argument.\n",
      " |      \n",
      " |      Returns\n",
      " |      -------\n",
      " |      r : ndarray\n",
      " |          The reduced values. If `out` was supplied, `r` is a reference to\n",
      " |          `out`.\n",
      " |      \n",
      " |      Notes\n",
      " |      -----\n",
      " |      A descriptive example:\n",
      " |      \n",
      " |      If `a` is 1-D, the function `ufunc.accumulate(a)` is the same as\n",
      " |      ``ufunc.reduceat(a, indices)[::2]`` where `indices` is\n",
      " |      ``range(len(array) - 1)`` with a zero placed\n",
      " |      in every other element:\n",
      " |      ``indices = zeros(2 * len(a) - 1)``, ``indices[1::2] = range(1, len(a))``.\n",
      " |      \n",
      " |      Don't be fooled by this attribute's name: `reduceat(a)` is not\n",
      " |      necessarily smaller than `a`.\n",
      " |      \n",
      " |      Examples\n",
      " |      --------\n",
      " |      To take the running sum of four successive values:\n",
      " |      \n",
      " |      >>> np.add.reduceat(np.arange(8),[0,4, 1,5, 2,6, 3,7])[::2]\n",
      " |      array([ 6, 10, 14, 18])\n",
      " |      \n",
      " |      A 2-D example:\n",
      " |      \n",
      " |      >>> x = np.linspace(0, 15, 16).reshape(4,4)\n",
      " |      >>> x\n",
      " |      array([[  0.,   1.,   2.,   3.],\n",
      " |             [  4.,   5.,   6.,   7.],\n",
      " |             [  8.,   9.,  10.,  11.],\n",
      " |             [ 12.,  13.,  14.,  15.]])\n",
      " |      \n",
      " |      ::\n",
      " |      \n",
      " |       # reduce such that the result has the following five rows:\n",
      " |       # [row1 + row2 + row3]\n",
      " |       # [row4]\n",
      " |       # [row2]\n",
      " |       # [row3]\n",
      " |       # [row1 + row2 + row3 + row4]\n",
      " |      \n",
      " |      >>> np.add.reduceat(x, [0, 3, 1, 2, 0])\n",
      " |      array([[ 12.,  15.,  18.,  21.],\n",
      " |             [ 12.,  13.,  14.,  15.],\n",
      " |             [  4.,   5.,   6.,   7.],\n",
      " |             [  8.,   9.,  10.,  11.],\n",
      " |             [ 24.,  28.,  32.,  36.]])\n",
      " |      \n",
      " |      ::\n",
      " |      \n",
      " |       # reduce such that result has the following two columns:\n",
      " |       # [col1 * col2 * col3, col4]\n",
      " |      \n",
      " |      >>> np.multiply.reduceat(x, [0, 3], 1)\n",
      " |      array([[    0.,     3.],\n",
      " |             [  120.,     7.],\n",
      " |             [  720.,    11.],\n",
      " |             [ 2184.,    15.]])\n",
      " |  \n",
      " |  ----------------------------------------------------------------------\n",
      " |  Data descriptors defined here:\n",
      " |  \n",
      " |  identity\n",
      " |      The identity value.\n",
      " |      \n",
      " |      Data attribute containing the identity element for the ufunc, if it has one.\n",
      " |      If it does not, the attribute value is None.\n",
      " |      \n",
      " |      Examples\n",
      " |      --------\n",
      " |      >>> np.add.identity\n",
      " |      0\n",
      " |      >>> np.multiply.identity\n",
      " |      1\n",
      " |      >>> np.power.identity\n",
      " |      1\n",
      " |      >>> print(np.exp.identity)\n",
      " |      None\n",
      " |  \n",
      " |  nargs\n",
      " |      The number of arguments.\n",
      " |      \n",
      " |      Data attribute containing the number of arguments the ufunc takes, including\n",
      " |      optional ones.\n",
      " |      \n",
      " |      Notes\n",
      " |      -----\n",
      " |      Typically this value will be one more than what you might expect because all\n",
      " |      ufuncs take  the optional \"out\" argument.\n",
      " |      \n",
      " |      Examples\n",
      " |      --------\n",
      " |      >>> np.add.nargs\n",
      " |      3\n",
      " |      >>> np.multiply.nargs\n",
      " |      3\n",
      " |      >>> np.power.nargs\n",
      " |      3\n",
      " |      >>> np.exp.nargs\n",
      " |      2\n",
      " |  \n",
      " |  nin\n",
      " |      The number of inputs.\n",
      " |      \n",
      " |      Data attribute containing the number of arguments the ufunc treats as input.\n",
      " |      \n",
      " |      Examples\n",
      " |      --------\n",
      " |      >>> np.add.nin\n",
      " |      2\n",
      " |      >>> np.multiply.nin\n",
      " |      2\n",
      " |      >>> np.power.nin\n",
      " |      2\n",
      " |      >>> np.exp.nin\n",
      " |      1\n",
      " |  \n",
      " |  nout\n",
      " |      The number of outputs.\n",
      " |      \n",
      " |      Data attribute containing the number of arguments the ufunc treats as output.\n",
      " |      \n",
      " |      Notes\n",
      " |      -----\n",
      " |      Since all ufuncs can take output arguments, this will always be (at least) 1.\n",
      " |      \n",
      " |      Examples\n",
      " |      --------\n",
      " |      >>> np.add.nout\n",
      " |      1\n",
      " |      >>> np.multiply.nout\n",
      " |      1\n",
      " |      >>> np.power.nout\n",
      " |      1\n",
      " |      >>> np.exp.nout\n",
      " |      1\n",
      " |  \n",
      " |  ntypes\n",
      " |      The number of types.\n",
      " |      \n",
      " |      The number of numerical NumPy types - of which there are 18 total - on which\n",
      " |      the ufunc can operate.\n",
      " |      \n",
      " |      See Also\n",
      " |      --------\n",
      " |      numpy.ufunc.types\n",
      " |      \n",
      " |      Examples\n",
      " |      --------\n",
      " |      >>> np.add.ntypes\n",
      " |      18\n",
      " |      >>> np.multiply.ntypes\n",
      " |      18\n",
      " |      >>> np.power.ntypes\n",
      " |      17\n",
      " |      >>> np.exp.ntypes\n",
      " |      7\n",
      " |      >>> np.remainder.ntypes\n",
      " |      14\n",
      " |  \n",
      " |  signature\n",
      " |      Definition of the core elements a generalized ufunc operates on.\n",
      " |      \n",
      " |      The signature determines how the dimensions of each input/output array\n",
      " |      are split into core and loop dimensions:\n",
      " |      \n",
      " |      1. Each dimension in the signature is matched to a dimension of the\n",
      " |         corresponding passed-in array, starting from the end of the shape tuple.\n",
      " |      2. Core dimensions assigned to the same label in the signature must have\n",
      " |         exactly matching sizes, no broadcasting is performed.\n",
      " |      3. The core dimensions are removed from all inputs and the remaining\n",
      " |         dimensions are broadcast together, defining the loop dimensions.\n",
      " |      \n",
      " |      Notes\n",
      " |      -----\n",
      " |      Generalized ufuncs are used internally in many linalg functions, and in\n",
      " |      the testing suite; the examples below are taken from these.\n",
      " |      For ufuncs that operate on scalars, the signature is `None`, which is\n",
      " |      equivalent to '()' for every argument.\n",
      " |      \n",
      " |      Examples\n",
      " |      --------\n",
      " |      >>> np.core.umath_tests.matrix_multiply.signature\n",
      " |      '(m,n),(n,p)->(m,p)'\n",
      " |      >>> np.linalg._umath_linalg.det.signature\n",
      " |      '(m,m)->()'\n",
      " |      >>> np.add.signature is None\n",
      " |      True  # equivalent to '(),()->()'\n",
      " |  \n",
      " |  types\n",
      " |      Returns a list with types grouped input->output.\n",
      " |      \n",
      " |      Data attribute listing the data-type \"Domain-Range\" groupings the ufunc can\n",
      " |      deliver. The data-types are given using the character codes.\n",
      " |      \n",
      " |      See Also\n",
      " |      --------\n",
      " |      numpy.ufunc.ntypes\n",
      " |      \n",
      " |      Examples\n",
      " |      --------\n",
      " |      >>> np.add.types\n",
      " |      ['??->?', 'bb->b', 'BB->B', 'hh->h', 'HH->H', 'ii->i', 'II->I', 'll->l',\n",
      " |      'LL->L', 'qq->q', 'QQ->Q', 'ff->f', 'dd->d', 'gg->g', 'FF->F', 'DD->D',\n",
      " |      'GG->G', 'OO->O']\n",
      " |      \n",
      " |      >>> np.multiply.types\n",
      " |      ['??->?', 'bb->b', 'BB->B', 'hh->h', 'HH->H', 'ii->i', 'II->I', 'll->l',\n",
      " |      'LL->L', 'qq->q', 'QQ->Q', 'ff->f', 'dd->d', 'gg->g', 'FF->F', 'DD->D',\n",
      " |      'GG->G', 'OO->O']\n",
      " |      \n",
      " |      >>> np.power.types\n",
      " |      ['bb->b', 'BB->B', 'hh->h', 'HH->H', 'ii->i', 'II->I', 'll->l', 'LL->L',\n",
      " |      'qq->q', 'QQ->Q', 'ff->f', 'dd->d', 'gg->g', 'FF->F', 'DD->D', 'GG->G',\n",
      " |      'OO->O']\n",
      " |      \n",
      " |      >>> np.exp.types\n",
      " |      ['f->f', 'd->d', 'g->g', 'F->F', 'D->D', 'G->G', 'O->O']\n",
      " |      \n",
      " |      >>> np.remainder.types\n",
      " |      ['bb->b', 'BB->B', 'hh->h', 'HH->H', 'ii->i', 'II->I', 'll->l', 'LL->L',\n",
      " |      'qq->q', 'QQ->Q', 'ff->f', 'dd->d', 'gg->g', 'OO->O']\n",
      "\n"
     ]
    }
   ],
   "source": [
    "help(np.conj)"
   ]
  },
  {
   "cell_type": "code",
   "execution_count": 41,
   "metadata": {},
   "outputs": [
    {
     "name": "stdout",
     "output_type": "stream",
     "text": [
      "\n",
      "X\n",
      " [[1 1 1]\n",
      " [2 2 2]\n",
      " [3 3 3]\n",
      " [4 4 4]]\n",
      "\n",
      "W\n",
      " [[0.425 0.222]\n",
      " [0.698 0.537]\n",
      " [0.039 1.434]\n",
      " [2.377 0.463]]\n",
      "\n",
      "H\n",
      " [[1.281 1.281 1.282]\n",
      " [2.058 2.058 2.058]]\n",
      "\n",
      "W*H\n",
      " [[1. 1. 1.]\n",
      " [2. 2. 2.]\n",
      " [3. 3. 3.]\n",
      " [4. 4. 4.]]\n",
      "\n",
      "X\n",
      " [[1 1 1]\n",
      " [2 2 2]\n",
      " [3 3 3]\n",
      " [4 4 4]]\n"
     ]
    }
   ],
   "source": [
    "# NMF를 이용합니다\n",
    "# NMF: 음수미포함행렬분해\n",
    "\n",
    "from sklearn.decomposition import NMF\n",
    "\n",
    "# 분해 대상 행렬\n",
    "X = np.array([[1, 1, 1], [2, 2, 2], [3, 3, 3], [4, 4, 4]])\n",
    "print('\\nX\\n', X)\n",
    "\n",
    "model = NMF(n_components = 2, init = 'random', random_state = 0)\n",
    "\n",
    "# X = WH\n",
    "# W, H: 음수를 포함하지 않은 행렬\n",
    "\n",
    "W = model.fit_transform(X)\n",
    "H = model.components_\n",
    "\n",
    "print('\\nW\\n', W)\n",
    "print('\\nH\\n', H)\n",
    "\n",
    "\n",
    "# 확인\n",
    "print('\\nW*H\\n', W@H)\n",
    "print('\\nX\\n', X)"
   ]
  },
  {
   "cell_type": "code",
   "execution_count": 42,
   "metadata": {},
   "outputs": [
    {
     "name": "stdout",
     "output_type": "stream",
     "text": [
      "\n",
      "B\n",
      " [[ 1  2  3]\n",
      " [ 4  5  6]\n",
      " [ 7  8  9]\n",
      " [10 11 12]]\n",
      "\n",
      "U\n",
      " [[-0.141 -0.825  0.538 -0.104]\n",
      " [-0.344 -0.426 -0.64   0.539]\n",
      " [-0.547 -0.028 -0.334 -0.767]\n",
      " [-0.75   0.371  0.436  0.332]]\n",
      "\n",
      "S\n",
      " [[2.546e+01 0.000e+00 0.000e+00]\n",
      " [0.000e+00 1.291e+00 0.000e+00]\n",
      " [0.000e+00 0.000e+00 2.312e-15]\n",
      " [0.000e+00 0.000e+00 0.000e+00]]\n",
      "\n",
      "V*\n",
      " [[-0.505 -0.575 -0.644]\n",
      " [ 0.761  0.057 -0.646]\n",
      " [-0.408  0.816 -0.408]]\n",
      "\n",
      "U.S.V* = \n",
      " [[ 1.  2.  3.]\n",
      " [ 4.  5.  6.]\n",
      " [ 7.  8.  9.]\n",
      " [10. 11. 12.]]\n"
     ]
    }
   ],
   "source": [
    "# 연습문제 5-13\n",
    "\n",
    "B = np.array([[1, 2, 3], [4, 5, 6], [7, 8, 9], [10, 11, 12]])\n",
    "print('\\nB\\n', B)\n",
    "\n",
    "U, s, Vs = sp.linalg.svd(B)\n",
    "m, n = B.shape\n",
    "\n",
    "S = sp.linalg.diagsvd(s, m, n)\n",
    "\n",
    "print('\\nU\\n', U)\n",
    "print('\\nS\\n', S)\n",
    "print('\\nV*\\n', Vs)\n",
    "print('\\nU.S.V* = \\n', U@S@Vs)"
   ]
  },
  {
   "cell_type": "code",
   "execution_count": 43,
   "metadata": {},
   "outputs": [
    {
     "name": "stdout",
     "output_type": "stream",
     "text": [
      "\n",
      "A\n",
      " [[1. 0. 0.]\n",
      " [0. 1. 0.]\n",
      " [0. 0. 1.]]\n",
      "\n",
      "A\n",
      " [[3. 1. 1.]\n",
      " [1. 1. 0.]\n",
      " [1. 0. 1.]]\n",
      "\n",
      "b\n",
      " [1. 1. 1.]\n",
      "\n",
      "P\n",
      " [[1. 0. 0.]\n",
      " [0. 1. 0.]\n",
      " [0. 0. 1.]]\n",
      "\n",
      "L\n",
      " [[ 1.     0.     0.   ]\n",
      " [ 0.333  1.     0.   ]\n",
      " [ 0.333 -0.5    1.   ]]\n",
      "\n",
      "U\n",
      " [[ 3.     1.     1.   ]\n",
      " [ 0.     0.667 -0.333]\n",
      " [ 0.     0.     0.5  ]]\n",
      "\n",
      "x\n",
      " [-1.  2.  2.]\n"
     ]
    }
   ],
   "source": [
    "# 연습문제 5-14\n",
    "\n",
    "# 데이터 생성\n",
    "A = np.identity(3)\n",
    "print('\\nA\\n', A)\n",
    "A[0,:] = 1\n",
    "A[:,0] = 1\n",
    "A[0,0] = 3\n",
    "b = np.ones(3)\n",
    "\n",
    "print('\\nA\\n', A)\n",
    "print('\\nb\\n', b)\n",
    "\n",
    "(LU, piv) = sp.linalg.lu_factor(A)\n",
    "L = np.identity(3) + np.tril(LU, -1)\n",
    "U = np.triu(LU)\n",
    "P = np.identity(3)[piv]\n",
    "\n",
    "print('\\nP\\n', P)\n",
    "print('\\nL\\n', L)\n",
    "print('\\nU\\n', U)\n",
    "\n",
    "\n",
    "# 해를 구함\n",
    "x = sp.linalg.lu_solve((LU, piv), b)\n",
    "print('\\nx\\n', x)"
   ]
  },
  {
   "cell_type": "markdown",
   "metadata": {},
   "source": [
    "## 5. 3. 3. 적분과 미분방정식"
   ]
  },
  {
   "cell_type": "code",
   "execution_count": 44,
   "metadata": {},
   "outputs": [],
   "source": [
    "# 적분\n",
    "\n",
    "# 적분 계산\n",
    "from scipy import integrate\n",
    "import math"
   ]
  },
  {
   "cell_type": "code",
   "execution_count": 45,
   "metadata": {},
   "outputs": [
    {
     "data": {
      "text/plain": [
       "(3.142, 0.000)"
      ]
     },
     "execution_count": 45,
     "metadata": {},
     "output_type": "execute_result"
    }
   ],
   "source": [
    "def calcPi(x):\n",
    "    return 4/(1+x**2)\n",
    "\n",
    "# 계산 결과와 추정오차\n",
    "integrate.quad(calcPi, 0, 1)"
   ]
  },
  {
   "cell_type": "code",
   "execution_count": 46,
   "metadata": {},
   "outputs": [
    {
     "data": {
      "text/plain": [
       "(3.142, 0.000)"
      ]
     },
     "execution_count": 46,
     "metadata": {},
     "output_type": "execute_result"
    }
   ],
   "source": [
    "# 익명함수를 이용해서도 가능\n",
    "\n",
    "integrate.quad(lambda x: 4/(1+x**2), 0, 1)"
   ]
  },
  {
   "cell_type": "code",
   "execution_count": 47,
   "metadata": {},
   "outputs": [
    {
     "data": {
      "text/plain": [
       "(2.000, 0.000)"
      ]
     },
     "execution_count": 47,
     "metadata": {},
     "output_type": "execute_result"
    }
   ],
   "source": [
    "# sin 함수를 구하는 예\n",
    "from numpy import sin\n",
    "integrate.quad(sin, 0, math.pi/1)"
   ]
  },
  {
   "cell_type": "code",
   "execution_count": 48,
   "metadata": {},
   "outputs": [
    {
     "name": "stdout",
     "output_type": "stream",
     "text": [
      "n=1일 때:  (1.0000000000048965, 6.360750359930833e-08)\n",
      "n=2일 때:  (0.4999999999985751, 1.3894083651858995e-08)\n",
      "n=3일 때:  (0.33333333325010883, 1.3888461883425516e-08)\n",
      "n=4일 때:  (0.2500000000043577, 1.298303346936809e-08)\n"
     ]
    }
   ],
   "source": [
    "# 2중 적분\n",
    "def I(n):\n",
    "    return integrate.dblquad(lambda t, x: np.exp(-x*t)/t**n, 0, np.inf, lambda x: 1, lambda xL: np.inf)\n",
    "print('n=1일 때: ', I(1))\n",
    "print('n=2일 때: ', I(2))\n",
    "print('n=3일 때: ', I(3))\n",
    "print('n=4일 때: ', I(4))"
   ]
  },
  {
   "cell_type": "code",
   "execution_count": 49,
   "metadata": {},
   "outputs": [
    {
     "data": {
      "image/png": "[encoded data removed]",
      "text/plain": [
       "<Figure size 432x288 with 1 Axes>"
      ]
     },
     "metadata": {
      "needs_background": "light"
     },
     "output_type": "display_data"
    }
   ],
   "source": [
    "# 미분방정식 계산\n",
    "\n",
    "# 모듈 임포트\n",
    "import numpy as np\n",
    "from scipy.integrate import odeint\n",
    "import matplotlib.pyplot as plt\n",
    "from mpl_toolkits.mplot3d import Axes3D\n",
    "\n",
    "# 로렌츠 방정식\n",
    "def lorenz_func(v, t, p, r, b):\n",
    "    return [-p*v[0]+p*v[1], -v[0]*v[2]+r*v[0]-v[1], v[0]*v[1]-b*v[2]]\n",
    "\n",
    "# 파라미터 설정\n",
    "p = 10\n",
    "r = 28\n",
    "b = 8/3\n",
    "v0 = [0.1, 0.1, 0.1]\n",
    "t = np.arange(0, 100, 0.01)\n",
    "\n",
    "# 함수 호출\n",
    "v = odeint(lorenz_func, v0, t, args = (p, r, b))\n",
    "\n",
    "# 시각화\n",
    "fig = plt.figure()\n",
    "ax = fig.gca(projection = '3d')\n",
    "ax.plot(v[:, 0], v[:, 1], v[:, 2])\n",
    "\n",
    "# 타이틀, 그리드 설정\n",
    "plt.title('Lorenz')\n",
    "plt.grid(True)"
   ]
  },
  {
   "cell_type": "code",
   "execution_count": 50,
   "metadata": {},
   "outputs": [
    {
     "data": {
      "text/plain": [
       "(8.667, 0.000)"
      ]
     },
     "execution_count": 50,
     "metadata": {},
     "output_type": "execute_result"
    }
   ],
   "source": [
    "# 연습문제 5-15\n",
    "from scipy import integrate\n",
    "import math\n",
    "\n",
    "integrate.quad(lambda x: (1+x)**2, 0, 2)"
   ]
  },
  {
   "cell_type": "code",
   "execution_count": 51,
   "metadata": {},
   "outputs": [
    {
     "data": {
      "text/plain": [
       "(0.000, 0.000)"
      ]
     },
     "execution_count": 51,
     "metadata": {},
     "output_type": "execute_result"
    }
   ],
   "source": [
    "# 연습문제 5-16\n",
    "from scipy import integrate\n",
    "from numpy import cos\n",
    "import math\n",
    "\n",
    "integrate.quad(cos, 0, math.pi/1)"
   ]
  },
  {
   "cell_type": "markdown",
   "metadata": {},
   "source": [
    "## 5. 3. 4. 최적화"
   ]
  },
  {
   "cell_type": "code",
   "execution_count": 52,
   "metadata": {},
   "outputs": [],
   "source": [
    "from scipy.optimize import fsolve"
   ]
  },
  {
   "cell_type": "code",
   "execution_count": 53,
   "metadata": {},
   "outputs": [],
   "source": [
    "# 2차 함수의 최적화\n",
    "\n",
    "def f(x):\n",
    "    y = 2 * x ** 2 + 2 * x - 10\n",
    "    return y"
   ]
  },
  {
   "cell_type": "code",
   "execution_count": 54,
   "metadata": {},
   "outputs": [
    {
     "name": "stdout",
     "output_type": "stream",
     "text": [
      "[1.791]\n",
      "[-2.791]\n"
     ]
    },
    {
     "data": {
      "image/png": "[encoded data removed]",
      "text/plain": [
       "<Figure size 432x288 with 1 Axes>"
      ]
     },
     "metadata": {
      "needs_background": "light"
     },
     "output_type": "display_data"
    }
   ],
   "source": [
    "# 그래프 생성\n",
    "x = np.linspace(-4, 4)\n",
    "plt.plot(x, f(x))\n",
    "plt.plot(x, np.zeros(len(x)))\n",
    "plt.grid(True)\n",
    "\n",
    "# x = 2 부근\n",
    "x = fsolve(f, 2)\n",
    "print(x)\n",
    "\n",
    "# x = -3 부근\n",
    "x = fsolve(f, -3)\n",
    "print(x)"
   ]
  },
  {
   "cell_type": "code",
   "execution_count": 55,
   "metadata": {},
   "outputs": [],
   "source": [
    "# 최적화 문제 풀기\n",
    "\n",
    "from scipy.optimize import minimize\n",
    "\n",
    "# 풀어야 하는 함수\n",
    "def objective(x):\n",
    "    x1 = x[0]\n",
    "    x2 = x[1]\n",
    "    x3 = x[2]\n",
    "    x4 = x[3]\n",
    "    return x1*x4*(x1+x2+x3)+x3"
   ]
  },
  {
   "cell_type": "code",
   "execution_count": 56,
   "metadata": {},
   "outputs": [
    {
     "name": "stdout",
     "output_type": "stream",
     "text": [
      "16\n"
     ]
    }
   ],
   "source": [
    "# 제약 조건 1\n",
    "def constraint1(x):\n",
    "    return x[0] * x[1] * x[2] * x[3] - 25.0\n",
    "\n",
    "# 제약 조건 2\n",
    "def constraint2(x):\n",
    "    sum_sq = 40\n",
    "    for i in range(4):\n",
    "        sum_sq = sum_sq - x[i] ** 2\n",
    "    return sum_sq\n",
    "\n",
    "# 초깃값\n",
    "x0 = [1, 5, 5, 1]\n",
    "print(objective(x0))"
   ]
  },
  {
   "cell_type": "code",
   "execution_count": 57,
   "metadata": {},
   "outputs": [],
   "source": [
    "b = (1.0, 5.0)\n",
    "bnds = (b, b, b, b)\n",
    "con1 = {'type':'ineq', 'fun':constraint1}\n",
    "con2 = {'type':'ineq', 'fun':constraint2}\n",
    "cons = [con1, con2]"
   ]
  },
  {
   "cell_type": "code",
   "execution_count": 58,
   "metadata": {},
   "outputs": [
    {
     "name": "stdout",
     "output_type": "stream",
     "text": [
      "     fun: 17.014017245446883\n",
      "     jac: array([14.572,  1.379,  2.379,  9.564])\n",
      " message: 'Optimization terminated successfully.'\n",
      "    nfev: 30\n",
      "     nit: 5\n",
      "    njev: 5\n",
      "  status: 0\n",
      " success: True\n",
      "       x: array([1.   , 4.743, 3.821, 1.379])\n"
     ]
    }
   ],
   "source": [
    "sol = minimize(objective, x0, method = 'SLSQP', bounds = bnds, constraints = cons)\n",
    "print(sol)"
   ]
  },
  {
   "cell_type": "code",
   "execution_count": 59,
   "metadata": {},
   "outputs": [
    {
     "name": "stdout",
     "output_type": "stream",
     "text": [
      "Y:  17.014017245446883\n",
      "X:  [1.    4.743 3.821 1.379]\n"
     ]
    }
   ],
   "source": [
    "print('Y: ', sol.fun)\n",
    "print('X: ', sol.x)"
   ]
  },
  {
   "cell_type": "code",
   "execution_count": 60,
   "metadata": {},
   "outputs": [
    {
     "data": {
      "image/png": "[encoded data removed]",
      "text/plain": [
       "<Figure size 432x288 with 1 Axes>"
      ]
     },
     "metadata": {
      "needs_background": "light"
     },
     "output_type": "display_data"
    }
   ],
   "source": [
    "# 연습문제 5-17\n",
    "\n",
    "from scipy.optimize import minimize\n",
    "\n",
    "def f(x):\n",
    "    y = 5 * x - 10\n",
    "    return y\n",
    "\n",
    "x = np.linspace(-4, 4)\n",
    "plt.plot(x, f(x))\n",
    "plt.plot(x, np.zeros(len(x)))\n",
    "plt.grid(True)"
   ]
  },
  {
   "cell_type": "code",
   "execution_count": 61,
   "metadata": {},
   "outputs": [
    {
     "name": "stdout",
     "output_type": "stream",
     "text": [
      "[2.]\n"
     ]
    }
   ],
   "source": [
    "# x = 2 부근\n",
    "x = fsolve(f, 2)\n",
    "print(x)"
   ]
  },
  {
   "cell_type": "code",
   "execution_count": 62,
   "metadata": {
    "scrolled": true
   },
   "outputs": [
    {
     "data": {
      "image/png": "[encoded data removed]",
      "text/plain": [
       "<Figure size 432x288 with 1 Axes>"
      ]
     },
     "metadata": {
      "needs_background": "light"
     },
     "output_type": "display_data"
    }
   ],
   "source": [
    "# 연습문제 5-18\n",
    "\n",
    "from scipy.optimize import minimize\n",
    "\n",
    "def f(x):\n",
    "    y = x**3 - 2*x**2 - 11*x +12\n",
    "    return y\n",
    "\n",
    "x = np.linspace(-5, 5)\n",
    "plt.plot(x, f(x))\n",
    "plt.plot(x, np.zeros(len(x)))\n",
    "plt.grid(True)"
   ]
  },
  {
   "cell_type": "code",
   "execution_count": 63,
   "metadata": {},
   "outputs": [
    {
     "name": "stdout",
     "output_type": "stream",
     "text": [
      "[-3.]\n",
      "[1.]\n",
      "[4.]\n"
     ]
    }
   ],
   "source": [
    "# x = -3 부근\n",
    "x = fsolve(f, -3)\n",
    "print(x)\n",
    "\n",
    "# x = 1 부근\n",
    "x = fsolve(f, 1)\n",
    "print(x)\n",
    "\n",
    "# x = 4 부근\n",
    "x = fsolve(f, 4)\n",
    "print(x)"
   ]
  },
  {
   "cell_type": "code",
   "execution_count": 64,
   "metadata": {},
   "outputs": [],
   "source": [
    "# 5장 종합문제 - 1\n",
    "# 다음을 솔레스키 분해 방법으로 Ax = b 방정식의 해를 구하세요\n",
    "A = np.array([[5, 1, 0, 1],\n",
    "              [1, 9, -5, 7],\n",
    "              [0, -5, 8, -3],\n",
    "              [1, 7, -3, 10]])\n",
    "b = np.array([2, 10, 5, 10])"
   ]
  },
  {
   "cell_type": "code",
   "execution_count": 66,
   "metadata": {},
   "outputs": [
    {
     "name": "stdout",
     "output_type": "stream",
     "text": [
      "\n",
      "L\n",
      " [[ 2.236  0.447  0.     0.447]\n",
      " [ 0.     2.966 -1.685  2.292]\n",
      " [ 0.     0.     2.271  0.38 ]\n",
      " [ 0.     0.     0.     2.098]]\n",
      "\n",
      "t\n",
      " [0.894 3.236 4.603 0.206]\n",
      "\n",
      "x\n",
      " [-0.051  2.157  2.01   0.098]\n",
      "\n",
      "A*x\n",
      " [ 2. 10.  5. 10.]\n",
      "\n",
      "b\n",
      " [ 2 10  5 10]\n"
     ]
    }
   ],
   "source": [
    "# A = L(L*)\n",
    "\n",
    "L = sp.linalg.cholesky(A)\n",
    "\n",
    "t = sp.linalg.solve(L.T.conj(), b)\n",
    "x = sp.linalg.solve(L, t)\n",
    "\n",
    "print('\\nL\\n', L)\n",
    "print('\\nt\\n', t)\n",
    "\n",
    "# 해답\n",
    "print('\\nx\\n', x)\n",
    "\n",
    "# 확인\n",
    "print('\\nA*x\\n', np.dot(A, x))\n",
    "print('\\nb\\n', b)"
   ]
  },
  {
   "cell_type": "code",
   "execution_count": 65,
   "metadata": {},
   "outputs": [],
   "source": [
    "# 5장 종합문제 - 2\n",
    "# 0 <= x <= 1, 0 <= y <= 1-x인 삼각영역에서 정의된 아래 함수를 적분하세요\n",
    "# "
   ]
  },
  {
   "cell_type": "code",
   "execution_count": null,
   "metadata": {},
   "outputs": [],
   "source": [
    "# 5장 종합문제 - 3\n",
    "# 사이파이를 이용해 최적화 문제 해를 구하세요\n",
    "# min f(x) = x ** 2 + 1\n",
    "# s.t.x >= -1"
   ]
  },
  {
   "cell_type": "code",
   "execution_count": null,
   "metadata": {},
   "outputs": [],
   "source": []
  }
 ],
 "metadata": {
  "jupytext": {
   "encoding": "# -*- coding: utf-8 -*-"
  },
  "kernelspec": {
   "display_name": "Python 3",
   "language": "python",
   "name": "python3"
  },
  "language_info": {
   "codemirror_mode": {
    "name": "ipython",
    "version": 3
   },
   "file_extension": ".py",
   "mimetype": "text/x-python",
   "name": "python",
   "nbconvert_exporter": "python",
   "pygments_lexer": "ipython3",
   "version": "3.7.3"
  }
 },
 "nbformat": 4,
 "nbformat_minor": 2
}
